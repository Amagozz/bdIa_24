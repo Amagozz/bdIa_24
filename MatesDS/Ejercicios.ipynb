{
 "cells": [
  {
   "cell_type": "markdown",
   "metadata": {},
   "source": [
    "# Ejercicios Resueltos - Conocimientos Matemáticos en ML y Redes Neuronales\n",
    "\n",
    "Este notebook contiene la solución detallada de 5 ejercicios como ejemplo. Cada ejercicio se presenta con su enunciado, solución en código y explicación. El mismo formato se debe seguir para los ejercicios 6 a 50."
   ]
  },
  {
   "cell_type": "markdown",
   "id": "47401a04",
   "metadata": {},
   "source": [
    "## Ejercicio 1: Producto Punto\n",
    "\n",
    "**Enunciado:** Calcular el producto punto entre los vectores \\( x = [1, 2, 3] \\) y \\( w = [0.5, -1, 2] \\).\n",
    "\n",
    "**Solución y Explicación:** Multiplicamos cada componente y sumamos:\n",
    "\\( 1\\times0.5 + 2\\times(-1) + 3\\times2 = 0.5 - 2 + 6 = 4.5 \\)."
   ]
  },
  {
   "cell_type": "code",
   "execution_count": null,
   "id": "ef0e4fb7",
   "metadata": {},
   "outputs": [],
   "source": [
    "import numpy as np\n",
    "\n",
    "x = np.array([1, 2, 3])\n",
    "w = np.array([0.5, -1, 2])\n",
    "producto_punto = np.dot(x, w)\n",
    "print('Producto punto:', producto_punto)  # Salida: 4.5"
   ]
  },
  {
   "cell_type": "markdown",
   "id": "d80382ab",
   "metadata": {},
   "source": [
    "## Ejercicio 2: Multiplicación de Matrices\n",
    "\n",
    "**Enunciado:** Dadas las matrices \\( A = \\begin{pmatrix}1 & 2\\\\ 3 & 4\\end{pmatrix} \\) y \\( B = \\begin{pmatrix}5 & 6\\\\ 7 & 8\\end{pmatrix} \\), calcular \\( C = A \\times B \\).\n",
    "\n",
    "**Solución y Explicación:** Se calcula cada elemento de \\( C \\) multiplicando la fila de \\( A \\) por la columna de \\( B \\).\n",
    "Ejemplo: \\( c_{11} = 1\\times5 + 2\\times7 = 19 \\)."
   ]
  },
  {
   "cell_type": "code",
   "execution_count": null,
   "id": "f90d1958",
   "metadata": {},
   "outputs": [],
   "source": [
    "A = np.array([[1, 2], [3, 4]])\n",
    "B = np.array([[5, 6], [7, 8]])\n",
    "C = np.dot(A, B)\n",
    "print('Producto de A y B:\\n', C)"
   ]
  },
  {
   "cell_type": "markdown",
   "id": "740f6570",
   "metadata": {},
   "source": [
    "## Ejercicio 3: Broadcasting y Operaciones Element-Wise\n",
    "\n",
    "**Enunciado:** Dada la matriz \\( M = \\begin{pmatrix}1 & 2 & 3\\\\ 4 & 5 & 6\\\\ 7 & 8 & 9\\end{pmatrix} \\) y el vector \\( v = [1, 2, 3] \\), sumar \\( v \\) a cada fila de \\( M \\) usando broadcasting.\n",
    "\n",
    "**Solución y Explicación:** El broadcasting extiende el vector a cada fila y se realiza la suma elemento a elemento."
   ]
  },
  {
   "cell_type": "code",
   "execution_count": null,
   "id": "dffc535e",
   "metadata": {},
   "outputs": [],
   "source": [
    "M = np.array([[1, 2, 3], [4, 5, 6], [7, 8, 9]])\n",
    "v = np.array([1, 2, 3])\n",
    "M_sum = M + v\n",
    "print('M + v:\\n', M_sum)"
   ]
  },
  {
   "cell_type": "markdown",
   "id": "3632535f",
   "metadata": {},
   "source": [
    "## Ejercicio 4: Resolución de un Sistema Lineal\n",
    "\n",
    "**Enunciado:** Resolver el sistema \\( Ax = b \\) para \\( A = \\begin{pmatrix}4 & 7\\\\ 2 & 6\\end{pmatrix} \\) y \\( b = [1, 0] \\) usando la inversa de \\( A \\).\n",
    "\n",
    "**Solución y Explicación:** Se calcula \\( A^{-1} \\) y se multiplica por \\( b \\) para obtener \\( x \\)."
   ]
  },
  {
   "cell_type": "code",
   "execution_count": null,
   "id": "40a12c83",
   "metadata": {},
   "outputs": [],
   "source": [
    "A = np.array([[4, 7], [2, 6]])\n",
    "b = np.array([1, 0])\n",
    "A_inv = np.linalg.inv(A)\n",
    "x_sol = A_inv.dot(b)\n",
    "print('Solución del sistema Ax = b:', x_sol)"
   ]
  },
  {
   "cell_type": "markdown",
   "id": "486f80a6",
   "metadata": {},
   "source": [
    "## Ejercicio 5: Descomposición en Valores Singulares (SVD)\n",
    "\n",
    "**Enunciado:** Realizar la SVD de \\( M = \\begin{pmatrix}1 & 0\\\\ 0 & 1\\\\ 1 & 1\\end{pmatrix} \\) y reconstruir \\( M \\).\n",
    "\n",
    "**Solución y Explicación:** Se descompone \\( M \\) en \\( U \\), \\( s \\) y \\( V^T \\) y luego se reconstruye \\( M \\) con \\( U\\Sigma V^T \\)."
   ]
  },
  {
   "cell_type": "code",
   "execution_count": null,
   "id": "bb856db4",
   "metadata": {},
   "outputs": [],
   "source": [
    "M = np.array([[1, 0], [0, 1], [1, 1]])\n",
    "U, s, Vt = np.linalg.svd(M, full_matrices=False)\n",
    "Sigma = np.diag(s)\n",
    "M_reconstructed = U.dot(Sigma).dot(Vt)\n",
    "print('Matriz U:\\n', U)\n",
    "print('Valores singulares:', s)\n",
    "print('Matriz V^T:\\n', Vt)\n",
    "print('M reconstruida:\\n', M_reconstructed)"
   ]
  },
  {
   "cell_type": "markdown",
   "id": "af7d6c57",
   "metadata": {},
   "source": [
    "*(Para los ejercicios 6 a 50, sigue el mismo formato: enunciado, solución en código y explicación detallada.)*"
   ]
  },
  {
   "cell_type": "markdown",
   "id": "f9d48765",
   "metadata": {},
   "source": [
    "# Conclusión\n",
    "\n",
    "Estos ejercicios resueltos muestran cómo aplicar conceptos matemáticos fundamentales en machine learning y redes neuronales. Extiende este formato para resolver los ejercicios restantes y profundizar en cada área."
   ]
  }
 ],
 "metadata": {
  "kernelspec": {
   "display_name": "Python 3",
   "language": "python",
   "name": "python3"
  },
  "language_info": {
   "name": "python",
   "version": "3.x"
  }
 },
 "nbformat": 4,
 "nbformat_minor": 5
}

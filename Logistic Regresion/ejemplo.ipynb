{
 "cells": [
  {
   "cell_type": "code",
   "execution_count": 1,
   "metadata": {},
   "outputs": [
    {
     "name": "stdout",
     "output_type": "stream",
     "text": [
      "Datos originales:\n",
      "     age   income  gender  purchased\n",
      "0  25.0  50000.0    male          1\n",
      "1   NaN  60000.0  female          0\n",
      "2  35.0  70000.0     NaN          1\n",
      "3  40.0      NaN  female          0\n",
      "4  29.0  45000.0    male          1\n"
     ]
    }
   ],
   "source": [
    "import pandas as pd\n",
    "import numpy as np\n",
    "\n",
    "# Crear un DataFrame con datos ficticios\n",
    "data = {\n",
    "    'age': [25, np.nan, 35, 40, 29],\n",
    "    'income': [50000, 60000, 70000, np.nan, 45000],\n",
    "    'gender': ['male', 'female', np.nan, 'female', 'male'],\n",
    "    'purchased': [1, 0, 1, 0, 1]\n",
    "}\n",
    "\n",
    "df = pd.DataFrame(data)\n",
    "print(\"Datos originales:\\n\", df)\n"
   ]
  },
  {
   "cell_type": "markdown",
   "metadata": {},
   "source": [
    "Solución paso a paso\n",
    "1. Imputación de valores faltantes\n",
    "\n",
    "Usaremos SimpleImputer de scikit-learn para manejar los valores faltantes:\n",
    "\n",
    "    Imputaremos la media para las características numéricas.\n",
    "    Imputaremos la moda para las características categóricas.\n",
    "\n",
    "2. Codificación de variables categóricas\n",
    "\n",
    "Convertiremos las variables categóricas a numéricas usando OneHotEncoder.\n",
    "3. Escalado de características numéricas\n",
    "\n",
    "Aplicaremos StandardScaler para estandarizar las características numéricas.\n",
    "4. Pipeline\n",
    "\n",
    "Uniremos todas las transformaciones en un Pipeline para facilitar su aplicación."
   ]
  },
  {
   "cell_type": "code",
   "execution_count": 5,
   "metadata": {},
   "outputs": [
    {
     "name": "stdout",
     "output_type": "stream",
     "text": [
      "Datos transformados:\n",
      " [[-1.41775817 -0.72777814  0.          1.        ]\n",
      " [ 0.          0.43666688  1.          0.        ]\n",
      " [ 0.53777034  1.6011119   1.          0.        ]\n",
      " [ 1.5155346   0.          1.          0.        ]\n",
      " [-0.63554677 -1.31000065  0.          1.        ]]\n"
     ]
    }
   ],
   "source": [
    "from sklearn.compose import ColumnTransformer\n",
    "from sklearn.pipeline import Pipeline\n",
    "from sklearn.impute import SimpleImputer\n",
    "from sklearn.preprocessing import OneHotEncoder, StandardScaler\n",
    "\n",
    "# Separar características y etiquetas\n",
    "X = df.drop('purchased', axis=1)\n",
    "y = df['purchased']\n",
    "\n",
    "# Identificar columnas numéricas y categóricas\n",
    "numeric_features = ['age', 'income']\n",
    "categorical_features = ['gender']\n",
    "\n",
    "# Preprocesamiento para características numéricas\n",
    "numeric_transformer = Pipeline(steps=[\n",
    "    ('imputer', SimpleImputer(strategy='mean')),  # Imputación con la media\n",
    "    ('scaler', StandardScaler())                 # Escalado\n",
    "])\n",
    "\n",
    "# Preprocesamiento para características categóricas\n",
    "categorical_transformer = Pipeline(steps=[\n",
    "    ('imputer', SimpleImputer(strategy='most_frequent')),  # Imputación con la moda\n",
    "    ('onehot', OneHotEncoder(handle_unknown='ignore'))     # Codificación One-Hot\n",
    "])\n",
    "\n",
    "# Combinar transformadores en un ColumnTransformer\n",
    "preprocessor = ColumnTransformer(\n",
    "    transformers=[\n",
    "        ('num', numeric_transformer, numeric_features),\n",
    "        ('cat', categorical_transformer, categorical_features)\n",
    "    ])\n",
    "\n",
    "# Crear el pipeline completo\n",
    "pipeline = Pipeline(steps=[('preprocessor', preprocessor)])\n",
    "\n",
    "# Aplicar el pipeline al dataset\n",
    "X_processed = pipeline.fit_transform(X)\n",
    "print(\"Datos transformados:\\n\", X_processed.toarray() if hasattr(X_processed, 'toarray') else X_processed)\n"
   ]
  },
  {
   "cell_type": "markdown",
   "metadata": {},
   "source": [
    "Resultados\n",
    "\n",
    "    Imputación de valores faltantes:\n",
    "        Las edades e ingresos faltantes se reemplazan por la media.\n",
    "        Los géneros faltantes se reemplazan por la moda ('male' o 'female').\n",
    "\n",
    "    Codificación de variables categóricas:\n",
    "        gender se convierte en variables dummy (e.g., gender_male, gender_female).\n",
    "\n",
    "    Escalado de características numéricas:\n",
    "        age e income se transforman para tener media 0 y desviación estándar 1."
   ]
  },
  {
   "cell_type": "code",
   "execution_count": 6,
   "metadata": {},
   "outputs": [
    {
     "name": "stdout",
     "output_type": "stream",
     "text": [
      "Dataset transformado:\n",
      "         age    income  gender_female  gender_male\n",
      "0 -1.417758 -0.727778            0.0          1.0\n",
      "1  0.000000  0.436667            1.0          0.0\n",
      "2  0.537770  1.601112            1.0          0.0\n",
      "3  1.515535  0.000000            1.0          0.0\n",
      "4 -0.635547 -1.310001            0.0          1.0\n"
     ]
    }
   ],
   "source": [
    "# Obtener nombres de las columnas transformadas\n",
    "categorical_names = pipeline.named_steps['preprocessor'] \\\n",
    "    .named_transformers_['cat'] \\\n",
    "    .named_steps['onehot'].get_feature_names_out(categorical_features)\n",
    "\n",
    "# Combinar nombres numéricos y categóricos\n",
    "column_names = numeric_features + list(categorical_names)\n",
    "\n",
    "# Convertir a DataFrame\n",
    "X_transformed_df = pd.DataFrame(X_processed, columns=column_names)\n",
    "print(\"Dataset transformado:\\n\", X_transformed_df)\n"
   ]
  },
  {
   "cell_type": "code",
   "execution_count": 7,
   "metadata": {},
   "outputs": [
    {
     "name": "stdout",
     "output_type": "stream",
     "text": [
      "Precisión del modelo: 0.5\n"
     ]
    }
   ],
   "source": [
    "from sklearn.ensemble import RandomForestClassifier\n",
    "\n",
    "# Agregar modelo al pipeline\n",
    "pipeline = Pipeline(steps=[\n",
    "    ('preprocessor', preprocessor),\n",
    "    ('classifier', RandomForestClassifier())\n",
    "])\n",
    "\n",
    "# Dividir datos y ajustar el modelo\n",
    "from sklearn.model_selection import train_test_split\n",
    "X_train, X_test, y_train, y_test = train_test_split(X, y, random_state=42)\n",
    "pipeline.fit(X_train, y_train)\n",
    "\n",
    "# Evaluar\n",
    "print(\"Precisión del modelo:\", pipeline.score(X_test, y_test))\n"
   ]
  }
 ],
 "metadata": {
  "kernelspec": {
   "display_name": "Python 3",
   "language": "python",
   "name": "python3"
  },
  "language_info": {
   "codemirror_mode": {
    "name": "ipython",
    "version": 3
   },
   "file_extension": ".py",
   "mimetype": "text/x-python",
   "name": "python",
   "nbconvert_exporter": "python",
   "pygments_lexer": "ipython3",
   "version": "3.11.3"
  }
 },
 "nbformat": 4,
 "nbformat_minor": 2
}

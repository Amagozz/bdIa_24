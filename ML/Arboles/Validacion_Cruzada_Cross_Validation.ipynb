{
 "cells": [
  {
   "cell_type": "markdown",
   "id": "3caba87b",
   "metadata": {},
   "source": [
    "# Validación Cruzada en Machine Learning\n",
    "\n",
    "La validación cruzada es una técnica utilizada para evaluar el rendimiento de un modelo de aprendizaje automático. En este ejemplo, vamos a usar K-Fold Cross-Validation para evaluar un modelo de regresión logística en el conjunto de datos Iris."
   ]
  },
  {
   "cell_type": "code",
   "execution_count": null,
   "id": "34797324",
   "metadata": {},
   "outputs": [],
   "source": [
    "\n",
    "# Importar las librerías necesarias\n",
    "import numpy as np\n",
    "import pandas as pd\n",
    "from sklearn.datasets import load_iris\n",
    "from sklearn.model_selection import cross_val_score\n",
    "from sklearn.linear_model import LogisticRegression\n",
    "from sklearn.model_selection import StratifiedKFold\n",
    "import matplotlib.pyplot as plt\n",
    "\n",
    "# Cargar el dataset Iris\n",
    "iris = load_iris()\n",
    "X = iris.data\n",
    "y = iris.target\n",
    "\n",
    "# Crear el modelo (Logistic Regression)\n",
    "model = LogisticRegression(max_iter=200)\n",
    "\n",
    "# Usar K-Fold Cross-Validation\n",
    "# Aquí usamos StratifiedKFold para asegurarnos de que las proporciones de las clases sean equilibradas en cada fold\n",
    "cv = StratifiedKFold(n_splits=5, shuffle=True, random_state=42)\n",
    "\n",
    "# Evaluar el modelo utilizando validación cruzada\n",
    "scores = cross_val_score(model, X, y, cv=cv, scoring='accuracy')\n",
    "\n",
    "# Mostrar los resultados\n",
    "print(f\"Precisión en cada fold: {scores}\")\n",
    "print(f\"Precisión media (cross-validation): {np.mean(scores):.2f}\")\n",
    "\n",
    "# Graficar los resultados de la validación cruzada\n",
    "plt.boxplot(scores)\n",
    "plt.title(\"Distribución de la Precisión en K-Fold Cross-Validation\")\n",
    "plt.ylabel(\"Precisión\")\n",
    "plt.show()\n"
   ]
  }
 ],
 "metadata": {},
 "nbformat": 4,
 "nbformat_minor": 5
}

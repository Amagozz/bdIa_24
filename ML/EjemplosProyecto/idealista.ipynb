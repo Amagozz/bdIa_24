{
 "cells": [
  {
   "cell_type": "code",
   "execution_count": 5,
   "metadata": {},
   "outputs": [],
   "source": [
    "import pandas as pd\n",
    "import matplotlib.pyplot as plt\n",
    "import seaborn as sns"
   ]
  },
  {
   "cell_type": "code",
   "execution_count": 4,
   "metadata": {},
   "outputs": [
    {
     "data": {
      "text/html": [
       "<div>\n",
       "<style scoped>\n",
       "    .dataframe tbody tr th:only-of-type {\n",
       "        vertical-align: middle;\n",
       "    }\n",
       "\n",
       "    .dataframe tbody tr th {\n",
       "        vertical-align: top;\n",
       "    }\n",
       "\n",
       "    .dataframe thead th {\n",
       "        text-align: right;\n",
       "    }\n",
       "</style>\n",
       "<table border=\"1\" class=\"dataframe\">\n",
       "  <thead>\n",
       "    <tr style=\"text-align: right;\">\n",
       "      <th></th>\n",
       "      <th>url</th>\n",
       "      <th>listingUrl</th>\n",
       "      <th>title</th>\n",
       "      <th>id</th>\n",
       "      <th>price</th>\n",
       "      <th>baths</th>\n",
       "      <th>rooms</th>\n",
       "      <th>sqft</th>\n",
       "      <th>description</th>\n",
       "      <th>address</th>\n",
       "      <th>typology</th>\n",
       "      <th>advertiserProfessionalName</th>\n",
       "      <th>advertiserName</th>\n",
       "    </tr>\n",
       "  </thead>\n",
       "  <tbody>\n",
       "    <tr>\n",
       "      <th>0</th>\n",
       "      <td>https://www.idealista.com/inmueble/104027174/</td>\n",
       "      <td>https://www.idealista.com/venta-viviendas/madr...</td>\n",
       "      <td>Piso en venta en calle de Villanueva</td>\n",
       "      <td>104027174</td>\n",
       "      <td>1920000</td>\n",
       "      <td>3</td>\n",
       "      <td>3</td>\n",
       "      <td>183</td>\n",
       "      <td>Residencia única con acabados de la más alta c...</td>\n",
       "      <td>Recoletos, Madrid</td>\n",
       "      <td>Pisos</td>\n",
       "      <td>Promora Madrid</td>\n",
       "      <td>Promora Madrid</td>\n",
       "    </tr>\n",
       "    <tr>\n",
       "      <th>1</th>\n",
       "      <td>https://www.idealista.com/inmueble/102321942/</td>\n",
       "      <td>https://www.idealista.com/venta-viviendas/madr...</td>\n",
       "      <td>Piso en venta en calle de Núñez de Balboa</td>\n",
       "      <td>102321942</td>\n",
       "      <td>1995000</td>\n",
       "      <td>3</td>\n",
       "      <td>3</td>\n",
       "      <td>170</td>\n",
       "      <td>Preciosa reforma a estrenar, con terrazas y ga...</td>\n",
       "      <td>Castellana, Madrid</td>\n",
       "      <td>Pisos</td>\n",
       "      <td>Madrid MMC</td>\n",
       "      <td>Engel &amp; Völkers Madrid</td>\n",
       "    </tr>\n",
       "    <tr>\n",
       "      <th>2</th>\n",
       "      <td>https://www.idealista.com/inmueble/103334142/</td>\n",
       "      <td>https://www.idealista.com/venta-viviendas/madr...</td>\n",
       "      <td>Piso en venta en Conde Orgaz-Piovera</td>\n",
       "      <td>103334142</td>\n",
       "      <td>1300000</td>\n",
       "      <td>3</td>\n",
       "      <td>4</td>\n",
       "      <td>270</td>\n",
       "      <td>DE SALAS CONSULTORES INMOBILIARIOS MAV02679 le...</td>\n",
       "      <td>Hortaleza, Madrid</td>\n",
       "      <td>Pisos</td>\n",
       "      <td>De Salas Consultores Inmobiliarios</td>\n",
       "      <td>De Salas Consultores Inmobiliarios</td>\n",
       "    </tr>\n",
       "    <tr>\n",
       "      <th>3</th>\n",
       "      <td>https://www.idealista.com/inmueble/104161987/</td>\n",
       "      <td>https://www.idealista.com/venta-viviendas/madr...</td>\n",
       "      <td>Piso en venta en Nueva España</td>\n",
       "      <td>104161987</td>\n",
       "      <td>1650000</td>\n",
       "      <td>3</td>\n",
       "      <td>3</td>\n",
       "      <td>248</td>\n",
       "      <td>Gilmar Real Estate vende espectacular piso en ...</td>\n",
       "      <td>Chamartín, Madrid</td>\n",
       "      <td>Pisos</td>\n",
       "      <td>departamento comercial</td>\n",
       "      <td>Gilmar Viso - Chamartín</td>\n",
       "    </tr>\n",
       "    <tr>\n",
       "      <th>4</th>\n",
       "      <td>https://www.idealista.com/inmueble/103989666/</td>\n",
       "      <td>https://www.idealista.com/venta-viviendas/madr...</td>\n",
       "      <td>Piso en venta en calle de Claudio Coello</td>\n",
       "      <td>103989666</td>\n",
       "      <td>1590750</td>\n",
       "      <td>3</td>\n",
       "      <td>3</td>\n",
       "      <td>116</td>\n",
       "      <td>Descubre esta impresionante vivienda exterior ...</td>\n",
       "      <td>Recoletos, Madrid</td>\n",
       "      <td>Pisos</td>\n",
       "      <td>Walter Haus Salamanca</td>\n",
       "      <td>Walter Haus Madrid</td>\n",
       "    </tr>\n",
       "  </tbody>\n",
       "</table>\n",
       "</div>"
      ],
      "text/plain": [
       "                                             url  \\\n",
       "0  https://www.idealista.com/inmueble/104027174/   \n",
       "1  https://www.idealista.com/inmueble/102321942/   \n",
       "2  https://www.idealista.com/inmueble/103334142/   \n",
       "3  https://www.idealista.com/inmueble/104161987/   \n",
       "4  https://www.idealista.com/inmueble/103989666/   \n",
       "\n",
       "                                          listingUrl  \\\n",
       "0  https://www.idealista.com/venta-viviendas/madr...   \n",
       "1  https://www.idealista.com/venta-viviendas/madr...   \n",
       "2  https://www.idealista.com/venta-viviendas/madr...   \n",
       "3  https://www.idealista.com/venta-viviendas/madr...   \n",
       "4  https://www.idealista.com/venta-viviendas/madr...   \n",
       "\n",
       "                                       title         id    price  baths  \\\n",
       "0       Piso en venta en calle de Villanueva  104027174  1920000      3   \n",
       "1  Piso en venta en calle de Núñez de Balboa  102321942  1995000      3   \n",
       "2       Piso en venta en Conde Orgaz-Piovera  103334142  1300000      3   \n",
       "3              Piso en venta en Nueva España  104161987  1650000      3   \n",
       "4   Piso en venta en calle de Claudio Coello  103989666  1590750      3   \n",
       "\n",
       "   rooms  sqft                                        description  \\\n",
       "0      3   183  Residencia única con acabados de la más alta c...   \n",
       "1      3   170  Preciosa reforma a estrenar, con terrazas y ga...   \n",
       "2      4   270  DE SALAS CONSULTORES INMOBILIARIOS MAV02679 le...   \n",
       "3      3   248  Gilmar Real Estate vende espectacular piso en ...   \n",
       "4      3   116  Descubre esta impresionante vivienda exterior ...   \n",
       "\n",
       "              address typology          advertiserProfessionalName  \\\n",
       "0   Recoletos, Madrid    Pisos                     Promora Madrid    \n",
       "1  Castellana, Madrid    Pisos                         Madrid MMC    \n",
       "2   Hortaleza, Madrid    Pisos  De Salas Consultores Inmobiliarios   \n",
       "3   Chamartín, Madrid    Pisos              departamento comercial   \n",
       "4   Recoletos, Madrid    Pisos               Walter Haus Salamanca   \n",
       "\n",
       "                       advertiserName  \n",
       "0                      Promora Madrid  \n",
       "1              Engel & Völkers Madrid  \n",
       "2  De Salas Consultores Inmobiliarios  \n",
       "3             Gilmar Viso - Chamartín  \n",
       "4                  Walter Haus Madrid  "
      ]
     },
     "execution_count": 4,
     "metadata": {},
     "output_type": "execute_result"
    }
   ],
   "source": [
    "df_madrid = pd.read_csv(\"./data/idealista_madrid.csv\")\n",
    "df_madrid.head()\n",
    "\n"
   ]
  },
  {
   "cell_type": "code",
   "execution_count": 6,
   "metadata": {},
   "outputs": [
    {
     "data": {
      "text/plain": [
       "Index(['url', 'listingUrl', 'title', 'id', 'price', 'baths', 'rooms', 'sqft',\n",
       "       'description', 'address', 'typology', 'advertiserProfessionalName',\n",
       "       'advertiserName'],\n",
       "      dtype='object')"
      ]
     },
     "execution_count": 6,
     "metadata": {},
     "output_type": "execute_result"
    }
   ],
   "source": [
    "df_madrid.columns"
   ]
  },
  {
   "cell_type": "code",
   "execution_count": 7,
   "metadata": {},
   "outputs": [
    {
     "data": {
      "text/html": [
       "<div>\n",
       "<style scoped>\n",
       "    .dataframe tbody tr th:only-of-type {\n",
       "        vertical-align: middle;\n",
       "    }\n",
       "\n",
       "    .dataframe tbody tr th {\n",
       "        vertical-align: top;\n",
       "    }\n",
       "\n",
       "    .dataframe thead th {\n",
       "        text-align: right;\n",
       "    }\n",
       "</style>\n",
       "<table border=\"1\" class=\"dataframe\">\n",
       "  <thead>\n",
       "    <tr style=\"text-align: right;\">\n",
       "      <th></th>\n",
       "      <th>id</th>\n",
       "      <th>price</th>\n",
       "      <th>baths</th>\n",
       "      <th>rooms</th>\n",
       "      <th>sqft</th>\n",
       "    </tr>\n",
       "  </thead>\n",
       "  <tbody>\n",
       "    <tr>\n",
       "      <th>count</th>\n",
       "      <td>9.150000e+02</td>\n",
       "      <td>9.150000e+02</td>\n",
       "      <td>915.000000</td>\n",
       "      <td>915.000000</td>\n",
       "      <td>915.000000</td>\n",
       "    </tr>\n",
       "    <tr>\n",
       "      <th>mean</th>\n",
       "      <td>1.020578e+08</td>\n",
       "      <td>1.290575e+06</td>\n",
       "      <td>2.900546</td>\n",
       "      <td>3.474317</td>\n",
       "      <td>217.238251</td>\n",
       "    </tr>\n",
       "    <tr>\n",
       "      <th>std</th>\n",
       "      <td>5.338810e+06</td>\n",
       "      <td>1.036640e+06</td>\n",
       "      <td>1.626487</td>\n",
       "      <td>1.594625</td>\n",
       "      <td>191.745826</td>\n",
       "    </tr>\n",
       "    <tr>\n",
       "      <th>min</th>\n",
       "      <td>2.547319e+07</td>\n",
       "      <td>1.220000e+05</td>\n",
       "      <td>1.000000</td>\n",
       "      <td>0.000000</td>\n",
       "      <td>14.000000</td>\n",
       "    </tr>\n",
       "    <tr>\n",
       "      <th>25%</th>\n",
       "      <td>1.019509e+08</td>\n",
       "      <td>6.250000e+05</td>\n",
       "      <td>2.000000</td>\n",
       "      <td>2.000000</td>\n",
       "      <td>104.000000</td>\n",
       "    </tr>\n",
       "    <tr>\n",
       "      <th>50%</th>\n",
       "      <td>1.031510e+08</td>\n",
       "      <td>9.900000e+05</td>\n",
       "      <td>3.000000</td>\n",
       "      <td>3.000000</td>\n",
       "      <td>158.000000</td>\n",
       "    </tr>\n",
       "    <tr>\n",
       "      <th>75%</th>\n",
       "      <td>1.037703e+08</td>\n",
       "      <td>1.650000e+06</td>\n",
       "      <td>4.000000</td>\n",
       "      <td>4.000000</td>\n",
       "      <td>264.000000</td>\n",
       "    </tr>\n",
       "    <tr>\n",
       "      <th>max</th>\n",
       "      <td>1.042055e+08</td>\n",
       "      <td>8.900000e+06</td>\n",
       "      <td>12.000000</td>\n",
       "      <td>12.000000</td>\n",
       "      <td>1768.000000</td>\n",
       "    </tr>\n",
       "  </tbody>\n",
       "</table>\n",
       "</div>"
      ],
      "text/plain": [
       "                 id         price       baths       rooms         sqft\n",
       "count  9.150000e+02  9.150000e+02  915.000000  915.000000   915.000000\n",
       "mean   1.020578e+08  1.290575e+06    2.900546    3.474317   217.238251\n",
       "std    5.338810e+06  1.036640e+06    1.626487    1.594625   191.745826\n",
       "min    2.547319e+07  1.220000e+05    1.000000    0.000000    14.000000\n",
       "25%    1.019509e+08  6.250000e+05    2.000000    2.000000   104.000000\n",
       "50%    1.031510e+08  9.900000e+05    3.000000    3.000000   158.000000\n",
       "75%    1.037703e+08  1.650000e+06    4.000000    4.000000   264.000000\n",
       "max    1.042055e+08  8.900000e+06   12.000000   12.000000  1768.000000"
      ]
     },
     "execution_count": 7,
     "metadata": {},
     "output_type": "execute_result"
    }
   ],
   "source": [
    "df_madrid.describe()"
   ]
  },
  {
   "cell_type": "code",
   "execution_count": 9,
   "metadata": {},
   "outputs": [
    {
     "name": "stdout",
     "output_type": "stream",
     "text": [
      "<class 'pandas.core.frame.DataFrame'>\n",
      "RangeIndex: 915 entries, 0 to 914\n",
      "Data columns (total 13 columns):\n",
      " #   Column                      Non-Null Count  Dtype \n",
      "---  ------                      --------------  ----- \n",
      " 0   url                         915 non-null    object\n",
      " 1   listingUrl                  915 non-null    object\n",
      " 2   title                       915 non-null    object\n",
      " 3   id                          915 non-null    int64 \n",
      " 4   price                       915 non-null    int64 \n",
      " 5   baths                       915 non-null    int64 \n",
      " 6   rooms                       915 non-null    int64 \n",
      " 7   sqft                        915 non-null    int64 \n",
      " 8   description                 914 non-null    object\n",
      " 9   address                     915 non-null    object\n",
      " 10  typology                    915 non-null    object\n",
      " 11  advertiserProfessionalName  915 non-null    object\n",
      " 12  advertiserName              915 non-null    object\n",
      "dtypes: int64(5), object(8)\n",
      "memory usage: 93.1+ KB\n"
     ]
    }
   ],
   "source": [
    "df_madrid.info()"
   ]
  },
  {
   "cell_type": "code",
   "execution_count": 11,
   "metadata": {},
   "outputs": [
    {
     "data": {
      "image/png": "[encoded data removed]",
      "text/plain": [
       "<Figure size 2000x1000 with 6 Axes>"
      ]
     },
     "metadata": {},
     "output_type": "display_data"
    }
   ],
   "source": [
    "df_madrid.hist(bins=50, figsize=(20,10))\n",
    "plt.tight_layout()\n",
    "plt.show()"
   ]
  },
  {
   "cell_type": "markdown",
   "metadata": {},
   "source": [
    "Hay repetidas?"
   ]
  },
  {
   "cell_type": "code",
   "execution_count": 14,
   "metadata": {},
   "outputs": [
    {
     "data": {
      "text/plain": [
       "id\n",
       "104027174    1\n",
       "102908373    1\n",
       "103334142    1\n",
       "104161987    1\n",
       "103989666    1\n",
       "            ..\n",
       "103392553    1\n",
       "103960809    1\n",
       "103494183    1\n",
       "99991709     1\n",
       "103315777    1\n",
       "Name: count, Length: 915, dtype: int64"
      ]
     },
     "execution_count": 14,
     "metadata": {},
     "output_type": "execute_result"
    }
   ],
   "source": [
    "df_madrid[\"id\"].value_counts().sort_values()"
   ]
  },
  {
   "cell_type": "markdown",
   "metadata": {},
   "source": [
    "Si hubiese repetidos o nulos, para las características numéricas media o mediana, para las categóricas la moda\n",
    "\n",
    "moda: \n",
    "\n",
    "valor_frecuente1 = df_madrid.groupby(\"id\")[cat_binarias].agg(lambda x:x.mode()[0]) #puede tardar mucho\n",
    "mediana_df_madrid_by_id = df_madrid.groupby(\"id\").median()\n",
    "\n"
   ]
  }
 ],
 "metadata": {
  "kernelspec": {
   "display_name": "Python 3",
   "language": "python",
   "name": "python3"
  },
  "language_info": {
   "codemirror_mode": {
    "name": "ipython",
    "version": 3
   },
   "file_extension": ".py",
   "mimetype": "text/x-python",
   "name": "python",
   "nbconvert_exporter": "python",
   "pygments_lexer": "ipython3",
   "version": "3.11.3"
  }
 },
 "nbformat": 4,
 "nbformat_minor": 2
}

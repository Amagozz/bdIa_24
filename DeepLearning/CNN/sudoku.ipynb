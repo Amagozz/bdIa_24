{
 "cells": [
  {
   "cell_type": "code",
   "execution_count": 1,
   "metadata": {},
   "outputs": [
    {
     "name": "stdout",
     "output_type": "stream",
     "text": [
      "No se detectó un tablero cuadrado.\n"
     ]
    }
   ],
   "source": [
    "import cv2\n",
    "import numpy as np\n",
    "import matplotlib.pyplot as plt\n",
    "\n",
    "def mostrar(img, cmap='gray', titulo=''):\n",
    "    plt.imshow(img, cmap=cmap)\n",
    "    plt.title(titulo)\n",
    "    plt.axis('off')\n",
    "    plt.show()\n",
    "\n",
    "# 1. Cargar imagen\n",
    "img = cv2.imread('sudoku.jpg')\n",
    "img_original = img.copy()\n",
    "gray = cv2.cvtColor(img, cv2.COLOR_BGR2GRAY)\n",
    "\n",
    "# 2. Preprocesar: desenfoque + umbral adaptativo\n",
    "blur = cv2.GaussianBlur(gray, (7, 7), 3)\n",
    "thresh = cv2.adaptiveThreshold(blur, 255, \n",
    "                                cv2.ADAPTIVE_THRESH_GAUSSIAN_C, \n",
    "                                cv2.THRESH_BINARY_INV, 11, 2)\n",
    "\n",
    "# 3. Encontrar contornos\n",
    "contornos, _ = cv2.findContours(thresh, cv2.RETR_EXTERNAL, cv2.CHAIN_APPROX_SIMPLE)\n",
    "\n",
    "# 4. Filtrar el contorno más grande (debería ser el tablero)\n",
    "contorno_tablero = max(contornos, key=cv2.contourArea)\n",
    "\n",
    "# 5. Aproximar el contorno a un polígono (idealmente un cuadrado)\n",
    "peri = cv2.arcLength(contorno_tablero, True)\n",
    "approx = cv2.approxPolyDP(contorno_tablero, 0.02 * peri, True)\n",
    "\n",
    "if len(approx) == 4:\n",
    "    pts = approx.reshape(4, 2)\n",
    "    \n",
    "    # Ordenar puntos: superior izq, superior der, inf der, inf izq\n",
    "    def ordenar_puntos(pts):\n",
    "        suma = pts.sum(axis=1)\n",
    "        resta = np.diff(pts, axis=1)\n",
    "\n",
    "        ordenados = np.zeros((4, 2), dtype=\"float32\")\n",
    "        ordenados[0] = pts[np.argmin(suma)]\n",
    "        ordenados[2] = pts[np.argmax(suma)]\n",
    "        ordenados[1] = pts[np.argmin(resta)]\n",
    "        ordenados[3] = pts[np.argmax(resta)]\n",
    "        return ordenados\n",
    "\n",
    "    pts_ordenados = ordenar_puntos(pts)\n",
    "\n",
    "    # 6. Transformación de perspectiva\n",
    "    lado = 450\n",
    "    destino = np.array([[0, 0], [lado-1, 0], [lado-1, lado-1], [0, lado-1]], dtype=\"float32\")\n",
    "    M = cv2.getPerspectiveTransform(pts_ordenados, destino)\n",
    "    warp = cv2.warpPerspective(img_original, M, (lado, lado))\n",
    "\n",
    "    mostrar(warp, titulo='Tablero de Sudoku enderezado')\n",
    "else:\n",
    "    print(\"No se detectó un tablero cuadrado.\")\n"
   ]
  }
 ],
 "metadata": {
  "kernelspec": {
   "display_name": "Python 3",
   "language": "python",
   "name": "python3"
  },
  "language_info": {
   "codemirror_mode": {
    "name": "ipython",
    "version": 3
   },
   "file_extension": ".py",
   "mimetype": "text/x-python",
   "name": "python",
   "nbconvert_exporter": "python",
   "pygments_lexer": "ipython3",
   "version": "3.11.3"
  }
 },
 "nbformat": 4,
 "nbformat_minor": 2
}

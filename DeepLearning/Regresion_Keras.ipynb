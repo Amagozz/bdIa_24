{
 "cells": [
  {
   "cell_type": "code",
   "execution_count": 7,
   "metadata": {},
   "outputs": [],
   "source": [
    "import pandas as pd\n",
    "import numpy as np\n",
    "import tensorflow as tf\n",
    "from tensorflow import keras\n",
    "from keras import layers\n",
    "import matplotlib.pyplot as plt\n",
    "from sklearn.model_selection import train_test_split"
   ]
  },
  {
   "cell_type": "code",
   "execution_count": 5,
   "metadata": {},
   "outputs": [
    {
     "name": "stdout",
     "output_type": "stream",
     "text": [
      "Forma de raw_dataset: (398, 9)\n",
      "    MPG  Cylinders  Displacement  Horsepower  Weight  Acceleration  \\\n",
      "0  18.0          8         307.0       130.0  3504.0          12.0   \n",
      "1  15.0          8         350.0       165.0  3693.0          11.5   \n",
      "2  18.0          8         318.0       150.0  3436.0          11.0   \n",
      "3  16.0          8         304.0       150.0  3433.0          12.0   \n",
      "4  17.0          8         302.0       140.0  3449.0          10.5   \n",
      "\n",
      "   Model Year  Origin  Car Name  \n",
      "0          70       1       NaN  \n",
      "1          70       1       NaN  \n",
      "2          70       1       NaN  \n",
      "3          70       1       NaN  \n",
      "4          70       1       NaN  \n",
      "Forma de dataset después de fillna(): (398, 9)\n",
      "Dataset final:\n",
      "    MPG  Cylinders  Displacement  Horsepower  Weight  Acceleration  \\\n",
      "0  18.0          8         307.0       130.0  3504.0          12.0   \n",
      "1  15.0          8         350.0       165.0  3693.0          11.5   \n",
      "2  18.0          8         318.0       150.0  3436.0          11.0   \n",
      "3  16.0          8         304.0       150.0  3433.0          12.0   \n",
      "4  17.0          8         302.0       140.0  3449.0          10.5   \n",
      "\n",
      "   Model Year  USA  Europe  Japan  \n",
      "0          70  1.0     0.0    0.0  \n",
      "1          70  1.0     0.0    0.0  \n",
      "2          70  1.0     0.0    0.0  \n",
      "3          70  1.0     0.0    0.0  \n",
      "4          70  1.0     0.0    0.0  \n",
      "Forma final: (398, 10)\n",
      "Forma de train_dataset: (318, 9)\n",
      "Forma de test_dataset: (80, 9)\n"
     ]
    },
    {
     "name": "stderr",
     "output_type": "stream",
     "text": [
      "/var/folders/zl/x4wcpc6n7p75fkkmssl2_0vh0000gn/T/ipykernel_25150/630005399.py:33: FutureWarning: A value is trying to be set on a copy of a DataFrame or Series through chained assignment using an inplace method.\n",
      "The behavior will change in pandas 3.0. This inplace method will never work because the intermediate object on which we are setting values always behaves as a copy.\n",
      "\n",
      "For example, when doing 'df[col].method(value, inplace=True)', try using 'df.method({col: value}, inplace=True)' or df[col] = df[col].method(value) instead, to perform the operation inplace on the original object.\n",
      "\n",
      "\n",
      "  dataset['Horsepower'].fillna(dataset['Horsepower'].median(), inplace=True)\n"
     ]
    }
   ],
   "source": [
    "import pandas as pd\n",
    "import numpy as np\n",
    "from tensorflow import keras\n",
    "\n",
    "# 1. Descargar el dataset\n",
    "dataset_path = keras.utils.get_file(\n",
    "    \"auto-mpg.data\",\n",
    "    \"http://archive.ics.uci.edu/ml/machine-learning-databases/auto-mpg/auto-mpg.data\"\n",
    ")\n",
    "column_names = ['MPG', 'Cylinders', 'Displacement', 'Horsepower', 'Weight',\n",
    "                'Acceleration', 'Model Year', 'Origin', 'Car Name']\n",
    "\n",
    "raw_dataset = pd.read_csv(\n",
    "    dataset_path, \n",
    "    names=column_names, \n",
    "    na_values='?', \n",
    "    comment='\\t', \n",
    "    sep=' ', \n",
    "    skipinitialspace=True\n",
    ")\n",
    "\n",
    "print(\"Forma de raw_dataset:\", raw_dataset.shape)\n",
    "print(raw_dataset.head())\n",
    "\n",
    "# 2. Limpiar o rellenar valores faltantes\n",
    "# Opción A: Eliminar filas con NaN\n",
    "# dataset = raw_dataset.dropna()\n",
    "# print(\"Forma de dataset después de dropna():\", dataset.shape)\n",
    "\n",
    "# Opción B: Rellenar valores faltantes en 'Horsepower'\n",
    "dataset = raw_dataset.copy()\n",
    "dataset['Horsepower'] = pd.to_numeric(dataset['Horsepower'], errors='coerce')\n",
    "dataset['Horsepower'].fillna(dataset['Horsepower'].median(), inplace=True)\n",
    "print(\"Forma de dataset después de fillna():\", dataset.shape)\n",
    "\n",
    "# Eliminar la columna 'Car Name'\n",
    "dataset = dataset.drop('Car Name', axis=1)\n",
    "\n",
    "# Convertir 'Origin' en variables dummy\n",
    "origin = dataset.pop('Origin')\n",
    "dataset['USA'] = (origin == 1) * 1.0\n",
    "dataset['Europe'] = (origin == 2) * 1.0\n",
    "dataset['Japan'] = (origin == 3) * 1.0\n",
    "\n",
    "print(\"Dataset final:\")\n",
    "print(dataset.head())\n",
    "print(\"Forma final:\", dataset.shape)\n",
    "\n",
    "# 3. Separar etiquetas y dividir en train y test\n",
    "from sklearn.model_selection import train_test_split\n",
    "\n",
    "train_dataset, test_dataset = train_test_split(dataset, test_size=0.2, random_state=0)\n",
    "train_labels = train_dataset.pop('MPG')\n",
    "test_labels = test_dataset.pop('MPG')\n",
    "print(\"Forma de train_dataset:\", train_dataset.shape)\n",
    "print(\"Forma de test_dataset:\", test_dataset.shape)\n"
   ]
  },
  {
   "cell_type": "code",
   "execution_count": 6,
   "metadata": {},
   "outputs": [
    {
     "name": "stdout",
     "output_type": "stream",
     "text": [
      "\n",
      "Estadísticas del conjunto de entrenamiento:\n",
      "              count         mean         std     min      25%     50%  \\\n",
      "Cylinders     318.0     5.452830    1.706170     3.0     4.00     4.0   \n",
      "Displacement  318.0   191.800314  102.795417    68.0   101.75   148.5   \n",
      "Horsepower    318.0   103.542453   37.446647    46.0    75.00    93.5   \n",
      "Weight        318.0  2963.393082  845.227078  1649.0  2216.25  2822.5   \n",
      "Acceleration  318.0    15.644654    2.701224     8.0    14.00    15.5   \n",
      "Model Year    318.0    76.147799    3.652083    70.0    73.00    76.0   \n",
      "USA           318.0     0.613208    0.487783     0.0     0.00     1.0   \n",
      "Europe        318.0     0.182390    0.386774     0.0     0.00     0.0   \n",
      "Japan         318.0     0.204403    0.403900     0.0     0.00     0.0   \n",
      "\n",
      "                  75%     max  \n",
      "Cylinders        8.00     8.0  \n",
      "Displacement   262.00   455.0  \n",
      "Horsepower     125.00   230.0  \n",
      "Weight        3561.25  5140.0  \n",
      "Acceleration    17.15    24.8  \n",
      "Model Year      79.00    82.0  \n",
      "USA              1.00     1.0  \n",
      "Europe           0.00     1.0  \n",
      "Japan            0.00     1.0  \n",
      "\n",
      "Forma de los datos normalizados:\n",
      "(318, 9) (80, 9)\n"
     ]
    },
    {
     "data": {
      "text/html": [
       "<pre style=\"white-space:pre;overflow-x:auto;line-height:normal;font-family:Menlo,'DejaVu Sans Mono',consolas,'Courier New',monospace\"><span style=\"font-weight: bold\">Model: \"sequential\"</span>\n",
       "</pre>\n"
      ],
      "text/plain": [
       "\u001b[1mModel: \"sequential\"\u001b[0m\n"
      ]
     },
     "metadata": {},
     "output_type": "display_data"
    },
    {
     "data": {
      "text/html": [
       "<pre style=\"white-space:pre;overflow-x:auto;line-height:normal;font-family:Menlo,'DejaVu Sans Mono',consolas,'Courier New',monospace\">┏━━━━━━━━━━━━━━━━━━━━━━━━━━━━━━━━━┳━━━━━━━━━━━━━━━━━━━━━━━━┳━━━━━━━━━━━━━━━┓\n",
       "┃<span style=\"font-weight: bold\"> Layer (type)                    </span>┃<span style=\"font-weight: bold\"> Output Shape           </span>┃<span style=\"font-weight: bold\">       Param # </span>┃\n",
       "┡━━━━━━━━━━━━━━━━━━━━━━━━━━━━━━━━━╇━━━━━━━━━━━━━━━━━━━━━━━━╇━━━━━━━━━━━━━━━┩\n",
       "│ dense (<span style=\"color: #0087ff; text-decoration-color: #0087ff\">Dense</span>)                   │ (<span style=\"color: #00d7ff; text-decoration-color: #00d7ff\">None</span>, <span style=\"color: #00af00; text-decoration-color: #00af00\">64</span>)             │           <span style=\"color: #00af00; text-decoration-color: #00af00\">640</span> │\n",
       "├─────────────────────────────────┼────────────────────────┼───────────────┤\n",
       "│ dense_1 (<span style=\"color: #0087ff; text-decoration-color: #0087ff\">Dense</span>)                 │ (<span style=\"color: #00d7ff; text-decoration-color: #00d7ff\">None</span>, <span style=\"color: #00af00; text-decoration-color: #00af00\">64</span>)             │         <span style=\"color: #00af00; text-decoration-color: #00af00\">4,160</span> │\n",
       "├─────────────────────────────────┼────────────────────────┼───────────────┤\n",
       "│ dense_2 (<span style=\"color: #0087ff; text-decoration-color: #0087ff\">Dense</span>)                 │ (<span style=\"color: #00d7ff; text-decoration-color: #00d7ff\">None</span>, <span style=\"color: #00af00; text-decoration-color: #00af00\">1</span>)              │            <span style=\"color: #00af00; text-decoration-color: #00af00\">65</span> │\n",
       "└─────────────────────────────────┴────────────────────────┴───────────────┘\n",
       "</pre>\n"
      ],
      "text/plain": [
       "┏━━━━━━━━━━━━━━━━━━━━━━━━━━━━━━━━━┳━━━━━━━━━━━━━━━━━━━━━━━━┳━━━━━━━━━━━━━━━┓\n",
       "┃\u001b[1m \u001b[0m\u001b[1mLayer (type)                   \u001b[0m\u001b[1m \u001b[0m┃\u001b[1m \u001b[0m\u001b[1mOutput Shape          \u001b[0m\u001b[1m \u001b[0m┃\u001b[1m \u001b[0m\u001b[1m      Param #\u001b[0m\u001b[1m \u001b[0m┃\n",
       "┡━━━━━━━━━━━━━━━━━━━━━━━━━━━━━━━━━╇━━━━━━━━━━━━━━━━━━━━━━━━╇━━━━━━━━━━━━━━━┩\n",
       "│ dense (\u001b[38;5;33mDense\u001b[0m)                   │ (\u001b[38;5;45mNone\u001b[0m, \u001b[38;5;34m64\u001b[0m)             │           \u001b[38;5;34m640\u001b[0m │\n",
       "├─────────────────────────────────┼────────────────────────┼───────────────┤\n",
       "│ dense_1 (\u001b[38;5;33mDense\u001b[0m)                 │ (\u001b[38;5;45mNone\u001b[0m, \u001b[38;5;34m64\u001b[0m)             │         \u001b[38;5;34m4,160\u001b[0m │\n",
       "├─────────────────────────────────┼────────────────────────┼───────────────┤\n",
       "│ dense_2 (\u001b[38;5;33mDense\u001b[0m)                 │ (\u001b[38;5;45mNone\u001b[0m, \u001b[38;5;34m1\u001b[0m)              │            \u001b[38;5;34m65\u001b[0m │\n",
       "└─────────────────────────────────┴────────────────────────┴───────────────┘\n"
      ]
     },
     "metadata": {},
     "output_type": "display_data"
    },
    {
     "data": {
      "text/html": [
       "<pre style=\"white-space:pre;overflow-x:auto;line-height:normal;font-family:Menlo,'DejaVu Sans Mono',consolas,'Courier New',monospace\"><span style=\"font-weight: bold\"> Total params: </span><span style=\"color: #00af00; text-decoration-color: #00af00\">4,865</span> (19.00 KB)\n",
       "</pre>\n"
      ],
      "text/plain": [
       "\u001b[1m Total params: \u001b[0m\u001b[38;5;34m4,865\u001b[0m (19.00 KB)\n"
      ]
     },
     "metadata": {},
     "output_type": "display_data"
    },
    {
     "data": {
      "text/html": [
       "<pre style=\"white-space:pre;overflow-x:auto;line-height:normal;font-family:Menlo,'DejaVu Sans Mono',consolas,'Courier New',monospace\"><span style=\"font-weight: bold\"> Trainable params: </span><span style=\"color: #00af00; text-decoration-color: #00af00\">4,865</span> (19.00 KB)\n",
       "</pre>\n"
      ],
      "text/plain": [
       "\u001b[1m Trainable params: \u001b[0m\u001b[38;5;34m4,865\u001b[0m (19.00 KB)\n"
      ]
     },
     "metadata": {},
     "output_type": "display_data"
    },
    {
     "data": {
      "text/html": [
       "<pre style=\"white-space:pre;overflow-x:auto;line-height:normal;font-family:Menlo,'DejaVu Sans Mono',consolas,'Courier New',monospace\"><span style=\"font-weight: bold\"> Non-trainable params: </span><span style=\"color: #00af00; text-decoration-color: #00af00\">0</span> (0.00 B)\n",
       "</pre>\n"
      ],
      "text/plain": [
       "\u001b[1m Non-trainable params: \u001b[0m\u001b[38;5;34m0\u001b[0m (0.00 B)\n"
      ]
     },
     "metadata": {},
     "output_type": "display_data"
    },
    {
     "name": "stdout",
     "output_type": "stream",
     "text": [
      "Epoch 1/100\n",
      "\u001b[1m8/8\u001b[0m \u001b[32m━━━━━━━━━━━━━━━━━━━━\u001b[0m\u001b[37m\u001b[0m \u001b[1m3s\u001b[0m 55ms/step - loss: 637.1349 - mae: 24.0333 - mse: 637.1349 - val_loss: 545.8245 - val_mae: 22.1636 - val_mse: 545.8245\n",
      "Epoch 2/100\n",
      "\u001b[1m8/8\u001b[0m \u001b[32m━━━━━━━━━━━━━━━━━━━━\u001b[0m\u001b[37m\u001b[0m \u001b[1m0s\u001b[0m 17ms/step - loss: 586.4669 - mae: 23.0289 - mse: 586.4669 - val_loss: 480.8768 - val_mae: 20.6860 - val_mse: 480.8768\n",
      "Epoch 3/100\n",
      "\u001b[1m8/8\u001b[0m \u001b[32m━━━━━━━━━━━━━━━━━━━━\u001b[0m\u001b[37m\u001b[0m \u001b[1m0s\u001b[0m 17ms/step - loss: 527.3952 - mae: 21.6318 - mse: 527.3952 - val_loss: 420.5374 - val_mae: 19.1976 - val_mse: 420.5374\n",
      "Epoch 4/100\n",
      "\u001b[1m8/8\u001b[0m \u001b[32m━━━━━━━━━━━━━━━━━━━━\u001b[0m\u001b[37m\u001b[0m \u001b[1m1s\u001b[0m 79ms/step - loss: 446.0928 - mae: 19.7817 - mse: 446.0928 - val_loss: 362.0969 - val_mae: 17.6280 - val_mse: 362.0969\n",
      "Epoch 5/100\n",
      "\u001b[1m8/8\u001b[0m \u001b[32m━━━━━━━━━━━━━━━━━━━━\u001b[0m\u001b[37m\u001b[0m \u001b[1m1s\u001b[0m 60ms/step - loss: 375.9078 - mae: 17.9109 - mse: 375.9078 - val_loss: 302.5594 - val_mae: 15.9629 - val_mse: 302.5594\n",
      "Epoch 6/100\n",
      "\u001b[1m8/8\u001b[0m \u001b[32m━━━━━━━━━━━━━━━━━━━━\u001b[0m\u001b[37m\u001b[0m \u001b[1m1s\u001b[0m 49ms/step - loss: 337.0657 - mae: 16.7810 - mse: 337.0657 - val_loss: 242.9649 - val_mae: 14.1911 - val_mse: 242.9649\n",
      "Epoch 7/100\n",
      "\u001b[1m8/8\u001b[0m \u001b[32m━━━━━━━━━━━━━━━━━━━━\u001b[0m\u001b[37m\u001b[0m \u001b[1m0s\u001b[0m 25ms/step - loss: 249.6932 - mae: 14.3152 - mse: 249.6932 - val_loss: 184.8589 - val_mae: 12.2174 - val_mse: 184.8589\n",
      "Epoch 8/100\n",
      "\u001b[1m8/8\u001b[0m \u001b[32m━━━━━━━━━━━━━━━━━━━━\u001b[0m\u001b[37m\u001b[0m \u001b[1m0s\u001b[0m 58ms/step - loss: 212.2120 - mae: 12.9714 - mse: 212.2120 - val_loss: 131.6868 - val_mae: 10.1990 - val_mse: 131.6868\n",
      "Epoch 9/100\n",
      "\u001b[1m8/8\u001b[0m \u001b[32m━━━━━━━━━━━━━━━━━━━━\u001b[0m\u001b[37m\u001b[0m \u001b[1m0s\u001b[0m 42ms/step - loss: 143.5308 - mae: 10.5330 - mse: 143.5308 - val_loss: 87.8079 - val_mae: 8.1550 - val_mse: 87.8079\n",
      "Epoch 10/100\n",
      "\u001b[1m8/8\u001b[0m \u001b[32m━━━━━━━━━━━━━━━━━━━━\u001b[0m\u001b[37m\u001b[0m \u001b[1m1s\u001b[0m 63ms/step - loss: 79.7131 - mae: 7.6161 - mse: 79.7131 - val_loss: 56.8531 - val_mae: 6.2742 - val_mse: 56.8531\n",
      "Epoch 11/100\n",
      "\u001b[1m8/8\u001b[0m \u001b[32m━━━━━━━━━━━━━━━━━━━━\u001b[0m\u001b[37m\u001b[0m \u001b[1m0s\u001b[0m 20ms/step - loss: 60.9471 - mae: 6.5204 - mse: 60.9471 - val_loss: 40.0796 - val_mae: 5.0371 - val_mse: 40.0796\n",
      "Epoch 12/100\n",
      "\u001b[1m8/8\u001b[0m \u001b[32m━━━━━━━━━━━━━━━━━━━━\u001b[0m\u001b[37m\u001b[0m \u001b[1m0s\u001b[0m 20ms/step - loss: 36.2452 - mae: 4.7374 - mse: 36.2452 - val_loss: 34.6974 - val_mae: 4.5724 - val_mse: 34.6974\n",
      "Epoch 13/100\n",
      "\u001b[1m8/8\u001b[0m \u001b[32m━━━━━━━━━━━━━━━━━━━━\u001b[0m\u001b[37m\u001b[0m \u001b[1m0s\u001b[0m 25ms/step - loss: 30.7001 - mae: 4.2003 - mse: 30.7001 - val_loss: 29.7798 - val_mae: 4.2955 - val_mse: 29.7798\n",
      "Epoch 14/100\n",
      "\u001b[1m8/8\u001b[0m \u001b[32m━━━━━━━━━━━━━━━━━━━━\u001b[0m\u001b[37m\u001b[0m \u001b[1m1s\u001b[0m 108ms/step - loss: 26.6308 - mae: 3.8800 - mse: 26.6308 - val_loss: 25.2604 - val_mae: 3.9501 - val_mse: 25.2604\n",
      "Epoch 15/100\n",
      "\u001b[1m8/8\u001b[0m \u001b[32m━━━━━━━━━━━━━━━━━━━━\u001b[0m\u001b[37m\u001b[0m \u001b[1m1s\u001b[0m 33ms/step - loss: 19.1576 - mae: 3.2449 - mse: 19.1576 - val_loss: 22.8120 - val_mae: 3.6771 - val_mse: 22.8120\n",
      "Epoch 16/100\n",
      "\u001b[1m8/8\u001b[0m \u001b[32m━━━━━━━━━━━━━━━━━━━━\u001b[0m\u001b[37m\u001b[0m \u001b[1m1s\u001b[0m 21ms/step - loss: 16.6143 - mae: 3.0867 - mse: 16.6143 - val_loss: 21.1919 - val_mae: 3.5191 - val_mse: 21.1919\n",
      "Epoch 17/100\n",
      "\u001b[1m8/8\u001b[0m \u001b[32m━━━━━━━━━━━━━━━━━━━━\u001b[0m\u001b[37m\u001b[0m \u001b[1m0s\u001b[0m 20ms/step - loss: 14.5431 - mae: 2.9281 - mse: 14.5431 - val_loss: 19.1940 - val_mae: 3.3167 - val_mse: 19.1940\n",
      "Epoch 18/100\n",
      "\u001b[1m8/8\u001b[0m \u001b[32m━━━━━━━━━━━━━━━━━━━━\u001b[0m\u001b[37m\u001b[0m \u001b[1m0s\u001b[0m 18ms/step - loss: 12.0697 - mae: 2.6061 - mse: 12.0697 - val_loss: 17.2248 - val_mae: 3.1552 - val_mse: 17.2248\n",
      "Epoch 19/100\n",
      "\u001b[1m8/8\u001b[0m \u001b[32m━━━━━━━━━━━━━━━━━━━━\u001b[0m\u001b[37m\u001b[0m \u001b[1m0s\u001b[0m 22ms/step - loss: 12.2824 - mae: 2.6440 - mse: 12.2824 - val_loss: 15.6806 - val_mae: 3.0208 - val_mse: 15.6806\n",
      "Epoch 20/100\n",
      "\u001b[1m8/8\u001b[0m \u001b[32m━━━━━━━━━━━━━━━━━━━━\u001b[0m\u001b[37m\u001b[0m \u001b[1m0s\u001b[0m 40ms/step - loss: 11.2277 - mae: 2.5474 - mse: 11.2277 - val_loss: 14.8132 - val_mae: 2.9305 - val_mse: 14.8132\n",
      "Epoch 21/100\n",
      "\u001b[1m8/8\u001b[0m \u001b[32m━━━━━━━━━━━━━━━━━━━━\u001b[0m\u001b[37m\u001b[0m \u001b[1m0s\u001b[0m 20ms/step - loss: 10.1241 - mae: 2.4266 - mse: 10.1241 - val_loss: 13.2244 - val_mae: 2.6923 - val_mse: 13.2244\n",
      "Epoch 22/100\n",
      "\u001b[1m8/8\u001b[0m \u001b[32m━━━━━━━━━━━━━━━━━━━━\u001b[0m\u001b[37m\u001b[0m \u001b[1m0s\u001b[0m 53ms/step - loss: 10.4979 - mae: 2.3809 - mse: 10.4979 - val_loss: 13.0154 - val_mae: 2.7133 - val_mse: 13.0154\n",
      "Epoch 23/100\n",
      "\u001b[1m8/8\u001b[0m \u001b[32m━━━━━━━━━━━━━━━━━━━━\u001b[0m\u001b[37m\u001b[0m \u001b[1m0s\u001b[0m 18ms/step - loss: 9.1288 - mae: 2.2566 - mse: 9.1288 - val_loss: 12.4900 - val_mae: 2.6239 - val_mse: 12.4900\n",
      "Epoch 24/100\n",
      "\u001b[1m8/8\u001b[0m \u001b[32m━━━━━━━━━━━━━━━━━━━━\u001b[0m\u001b[37m\u001b[0m \u001b[1m0s\u001b[0m 18ms/step - loss: 10.0555 - mae: 2.3670 - mse: 10.0555 - val_loss: 12.1492 - val_mae: 2.5945 - val_mse: 12.1492\n",
      "Epoch 25/100\n",
      "\u001b[1m8/8\u001b[0m \u001b[32m━━━━━━━━━━━━━━━━━━━━\u001b[0m\u001b[37m\u001b[0m \u001b[1m0s\u001b[0m 20ms/step - loss: 8.7588 - mae: 2.2324 - mse: 8.7588 - val_loss: 11.4361 - val_mae: 2.4663 - val_mse: 11.4361\n",
      "Epoch 26/100\n",
      "\u001b[1m8/8\u001b[0m \u001b[32m━━━━━━━━━━━━━━━━━━━━\u001b[0m\u001b[37m\u001b[0m \u001b[1m0s\u001b[0m 22ms/step - loss: 8.7475 - mae: 2.2041 - mse: 8.7475 - val_loss: 11.1725 - val_mae: 2.4217 - val_mse: 11.1725\n",
      "Epoch 27/100\n",
      "\u001b[1m8/8\u001b[0m \u001b[32m━━━━━━━━━━━━━━━━━━━━\u001b[0m\u001b[37m\u001b[0m \u001b[1m0s\u001b[0m 36ms/step - loss: 7.6302 - mae: 2.0733 - mse: 7.6302 - val_loss: 10.7704 - val_mae: 2.3861 - val_mse: 10.7704\n",
      "Epoch 28/100\n",
      "\u001b[1m8/8\u001b[0m \u001b[32m━━━━━━━━━━━━━━━━━━━━\u001b[0m\u001b[37m\u001b[0m \u001b[1m0s\u001b[0m 32ms/step - loss: 8.7342 - mae: 2.1497 - mse: 8.7342 - val_loss: 10.5413 - val_mae: 2.3592 - val_mse: 10.5413\n",
      "Epoch 29/100\n",
      "\u001b[1m8/8\u001b[0m \u001b[32m━━━━━━━━━━━━━━━━━━━━\u001b[0m\u001b[37m\u001b[0m \u001b[1m0s\u001b[0m 31ms/step - loss: 8.0124 - mae: 2.1026 - mse: 8.0124 - val_loss: 9.9748 - val_mae: 2.2528 - val_mse: 9.9748\n",
      "Epoch 30/100\n",
      "\u001b[1m8/8\u001b[0m \u001b[32m━━━━━━━━━━━━━━━━━━━━\u001b[0m\u001b[37m\u001b[0m \u001b[1m0s\u001b[0m 34ms/step - loss: 8.9744 - mae: 2.2314 - mse: 8.9744 - val_loss: 9.8147 - val_mae: 2.2287 - val_mse: 9.8147\n",
      "Epoch 31/100\n",
      "\u001b[1m8/8\u001b[0m \u001b[32m━━━━━━━━━━━━━━━━━━━━\u001b[0m\u001b[37m\u001b[0m \u001b[1m0s\u001b[0m 25ms/step - loss: 8.4660 - mae: 2.0748 - mse: 8.4660 - val_loss: 10.0523 - val_mae: 2.3081 - val_mse: 10.0523\n",
      "Epoch 32/100\n",
      "\u001b[1m8/8\u001b[0m \u001b[32m━━━━━━━━━━━━━━━━━━━━\u001b[0m\u001b[37m\u001b[0m \u001b[1m0s\u001b[0m 42ms/step - loss: 7.9282 - mae: 2.1017 - mse: 7.9282 - val_loss: 9.8783 - val_mae: 2.3066 - val_mse: 9.8783\n",
      "Epoch 33/100\n",
      "\u001b[1m8/8\u001b[0m \u001b[32m━━━━━━━━━━━━━━━━━━━━\u001b[0m\u001b[37m\u001b[0m \u001b[1m1s\u001b[0m 64ms/step - loss: 7.2057 - mae: 2.0129 - mse: 7.2057 - val_loss: 9.5076 - val_mae: 2.2274 - val_mse: 9.5076\n",
      "Epoch 34/100\n",
      "\u001b[1m8/8\u001b[0m \u001b[32m━━━━━━━━━━━━━━━━━━━━\u001b[0m\u001b[37m\u001b[0m \u001b[1m1s\u001b[0m 56ms/step - loss: 6.3932 - mae: 1.8865 - mse: 6.3932 - val_loss: 9.0678 - val_mae: 2.1459 - val_mse: 9.0678\n",
      "Epoch 35/100\n",
      "\u001b[1m8/8\u001b[0m \u001b[32m━━━━━━━━━━━━━━━━━━━━\u001b[0m\u001b[37m\u001b[0m \u001b[1m0s\u001b[0m 36ms/step - loss: 8.0206 - mae: 2.0580 - mse: 8.0206 - val_loss: 9.2127 - val_mae: 2.2080 - val_mse: 9.2127\n",
      "Epoch 36/100\n",
      "\u001b[1m8/8\u001b[0m \u001b[32m━━━━━━━━━━━━━━━━━━━━\u001b[0m\u001b[37m\u001b[0m \u001b[1m1s\u001b[0m 24ms/step - loss: 7.2360 - mae: 1.9167 - mse: 7.2360 - val_loss: 9.0273 - val_mae: 2.1840 - val_mse: 9.0273\n",
      "Epoch 37/100\n",
      "\u001b[1m8/8\u001b[0m \u001b[32m━━━━━━━━━━━━━━━━━━━━\u001b[0m\u001b[37m\u001b[0m \u001b[1m0s\u001b[0m 41ms/step - loss: 7.0119 - mae: 1.8965 - mse: 7.0119 - val_loss: 8.6185 - val_mae: 2.0862 - val_mse: 8.6185\n",
      "Epoch 38/100\n",
      "\u001b[1m8/8\u001b[0m \u001b[32m━━━━━━━━━━━━━━━━━━━━\u001b[0m\u001b[37m\u001b[0m \u001b[1m0s\u001b[0m 33ms/step - loss: 6.8959 - mae: 1.8667 - mse: 6.8959 - val_loss: 8.4875 - val_mae: 2.0746 - val_mse: 8.4875\n",
      "Epoch 39/100\n",
      "\u001b[1m8/8\u001b[0m \u001b[32m━━━━━━━━━━━━━━━━━━━━\u001b[0m\u001b[37m\u001b[0m \u001b[1m0s\u001b[0m 53ms/step - loss: 7.1582 - mae: 1.8539 - mse: 7.1582 - val_loss: 8.5852 - val_mae: 2.1023 - val_mse: 8.5852\n",
      "Epoch 40/100\n",
      "\u001b[1m8/8\u001b[0m \u001b[32m━━━━━━━━━━━━━━━━━━━━\u001b[0m\u001b[37m\u001b[0m \u001b[1m0s\u001b[0m 42ms/step - loss: 5.6160 - mae: 1.7434 - mse: 5.6160 - val_loss: 8.7151 - val_mae: 2.1778 - val_mse: 8.7151\n",
      "Epoch 41/100\n",
      "\u001b[1m8/8\u001b[0m \u001b[32m━━━━━━━━━━━━━━━━━━━━\u001b[0m\u001b[37m\u001b[0m \u001b[1m0s\u001b[0m 32ms/step - loss: 4.9364 - mae: 1.5863 - mse: 4.9364 - val_loss: 8.5018 - val_mae: 2.0974 - val_mse: 8.5018\n",
      "Epoch 42/100\n",
      "\u001b[1m8/8\u001b[0m \u001b[32m━━━━━━━━━━━━━━━━━━━━\u001b[0m\u001b[37m\u001b[0m \u001b[1m0s\u001b[0m 22ms/step - loss: 5.9828 - mae: 1.7282 - mse: 5.9828 - val_loss: 8.3121 - val_mae: 2.0360 - val_mse: 8.3121\n",
      "Epoch 43/100\n",
      "\u001b[1m8/8\u001b[0m \u001b[32m━━━━━━━━━━━━━━━━━━━━\u001b[0m\u001b[37m\u001b[0m \u001b[1m0s\u001b[0m 25ms/step - loss: 6.0380 - mae: 1.7443 - mse: 6.0380 - val_loss: 8.3423 - val_mae: 2.0973 - val_mse: 8.3423\n",
      "Epoch 44/100\n",
      "\u001b[1m8/8\u001b[0m \u001b[32m━━━━━━━━━━━━━━━━━━━━\u001b[0m\u001b[37m\u001b[0m \u001b[1m0s\u001b[0m 25ms/step - loss: 5.8763 - mae: 1.7384 - mse: 5.8763 - val_loss: 8.2168 - val_mae: 2.0429 - val_mse: 8.2168\n",
      "Epoch 45/100\n",
      "\u001b[1m8/8\u001b[0m \u001b[32m━━━━━━━━━━━━━━━━━━━━\u001b[0m\u001b[37m\u001b[0m \u001b[1m0s\u001b[0m 20ms/step - loss: 6.1292 - mae: 1.7421 - mse: 6.1292 - val_loss: 8.4811 - val_mae: 2.1429 - val_mse: 8.4811\n",
      "Epoch 46/100\n",
      "\u001b[1m8/8\u001b[0m \u001b[32m━━━━━━━━━━━━━━━━━━━━\u001b[0m\u001b[37m\u001b[0m \u001b[1m1s\u001b[0m 49ms/step - loss: 5.1490 - mae: 1.6481 - mse: 5.1490 - val_loss: 8.2268 - val_mae: 2.0723 - val_mse: 8.2268\n",
      "Epoch 47/100\n",
      "\u001b[1m8/8\u001b[0m \u001b[32m━━━━━━━━━━━━━━━━━━━━\u001b[0m\u001b[37m\u001b[0m \u001b[1m0s\u001b[0m 52ms/step - loss: 4.8601 - mae: 1.6263 - mse: 4.8601 - val_loss: 7.9943 - val_mae: 2.0409 - val_mse: 7.9943\n",
      "Epoch 48/100\n",
      "\u001b[1m8/8\u001b[0m \u001b[32m━━━━━━━━━━━━━━━━━━━━\u001b[0m\u001b[37m\u001b[0m \u001b[1m1s\u001b[0m 68ms/step - loss: 6.2581 - mae: 1.7337 - mse: 6.2581 - val_loss: 8.0224 - val_mae: 2.0627 - val_mse: 8.0224\n",
      "Epoch 49/100\n",
      "\u001b[1m8/8\u001b[0m \u001b[32m━━━━━━━━━━━━━━━━━━━━\u001b[0m\u001b[37m\u001b[0m \u001b[1m0s\u001b[0m 20ms/step - loss: 5.3459 - mae: 1.7096 - mse: 5.3459 - val_loss: 8.0611 - val_mae: 2.0566 - val_mse: 8.0611\n",
      "Epoch 50/100\n",
      "\u001b[1m8/8\u001b[0m \u001b[32m━━━━━━━━━━━━━━━━━━━━\u001b[0m\u001b[37m\u001b[0m \u001b[1m0s\u001b[0m 18ms/step - loss: 5.4305 - mae: 1.6832 - mse: 5.4305 - val_loss: 7.9548 - val_mae: 2.0171 - val_mse: 7.9548\n",
      "Epoch 51/100\n",
      "\u001b[1m8/8\u001b[0m \u001b[32m━━━━━━━━━━━━━━━━━━━━\u001b[0m\u001b[37m\u001b[0m \u001b[1m0s\u001b[0m 24ms/step - loss: 5.0682 - mae: 1.6151 - mse: 5.0682 - val_loss: 7.9298 - val_mae: 2.0236 - val_mse: 7.9298\n",
      "Epoch 52/100\n",
      "\u001b[1m8/8\u001b[0m \u001b[32m━━━━━━━━━━━━━━━━━━━━\u001b[0m\u001b[37m\u001b[0m \u001b[1m0s\u001b[0m 20ms/step - loss: 7.8333 - mae: 1.8924 - mse: 7.8333 - val_loss: 7.9163 - val_mae: 1.9999 - val_mse: 7.9163\n",
      "Epoch 53/100\n",
      "\u001b[1m8/8\u001b[0m \u001b[32m━━━━━━━━━━━━━━━━━━━━\u001b[0m\u001b[37m\u001b[0m \u001b[1m0s\u001b[0m 28ms/step - loss: 5.0855 - mae: 1.6656 - mse: 5.0855 - val_loss: 7.9039 - val_mae: 2.0335 - val_mse: 7.9039\n",
      "Epoch 54/100\n",
      "\u001b[1m8/8\u001b[0m \u001b[32m━━━━━━━━━━━━━━━━━━━━\u001b[0m\u001b[37m\u001b[0m \u001b[1m0s\u001b[0m 27ms/step - loss: 4.7783 - mae: 1.5195 - mse: 4.7783 - val_loss: 8.2084 - val_mae: 2.1351 - val_mse: 8.2084\n",
      "Epoch 55/100\n",
      "\u001b[1m8/8\u001b[0m \u001b[32m━━━━━━━━━━━━━━━━━━━━\u001b[0m\u001b[37m\u001b[0m \u001b[1m0s\u001b[0m 17ms/step - loss: 5.5078 - mae: 1.6913 - mse: 5.5078 - val_loss: 7.8844 - val_mae: 2.0491 - val_mse: 7.8844\n",
      "Epoch 56/100\n",
      "\u001b[1m8/8\u001b[0m \u001b[32m━━━━━━━━━━━━━━━━━━━━\u001b[0m\u001b[37m\u001b[0m \u001b[1m0s\u001b[0m 22ms/step - loss: 5.4010 - mae: 1.6238 - mse: 5.4010 - val_loss: 7.8223 - val_mae: 2.0032 - val_mse: 7.8223\n",
      "Epoch 57/100\n",
      "\u001b[1m8/8\u001b[0m \u001b[32m━━━━━━━━━━━━━━━━━━━━\u001b[0m\u001b[37m\u001b[0m \u001b[1m0s\u001b[0m 46ms/step - loss: 4.7406 - mae: 1.5823 - mse: 4.7406 - val_loss: 7.7451 - val_mae: 2.0245 - val_mse: 7.7451\n",
      "Epoch 58/100\n",
      "\u001b[1m8/8\u001b[0m \u001b[32m━━━━━━━━━━━━━━━━━━━━\u001b[0m\u001b[37m\u001b[0m \u001b[1m1s\u001b[0m 20ms/step - loss: 5.3276 - mae: 1.6146 - mse: 5.3276 - val_loss: 8.3350 - val_mae: 2.1530 - val_mse: 8.3350\n",
      "Epoch 59/100\n",
      "\u001b[1m8/8\u001b[0m \u001b[32m━━━━━━━━━━━━━━━━━━━━\u001b[0m\u001b[37m\u001b[0m \u001b[1m0s\u001b[0m 40ms/step - loss: 5.1172 - mae: 1.6107 - mse: 5.1172 - val_loss: 7.5782 - val_mae: 1.9603 - val_mse: 7.5782\n",
      "Epoch 60/100\n",
      "\u001b[1m8/8\u001b[0m \u001b[32m━━━━━━━━━━━━━━━━━━━━\u001b[0m\u001b[37m\u001b[0m \u001b[1m0s\u001b[0m 42ms/step - loss: 5.4769 - mae: 1.6331 - mse: 5.4769 - val_loss: 7.5130 - val_mae: 1.9584 - val_mse: 7.5130\n",
      "Epoch 61/100\n",
      "\u001b[1m8/8\u001b[0m \u001b[32m━━━━━━━━━━━━━━━━━━━━\u001b[0m\u001b[37m\u001b[0m \u001b[1m0s\u001b[0m 31ms/step - loss: 5.1426 - mae: 1.5981 - mse: 5.1426 - val_loss: 8.0922 - val_mae: 2.1175 - val_mse: 8.0922\n",
      "Epoch 62/100\n",
      "\u001b[1m8/8\u001b[0m \u001b[32m━━━━━━━━━━━━━━━━━━━━\u001b[0m\u001b[37m\u001b[0m \u001b[1m0s\u001b[0m 35ms/step - loss: 5.0697 - mae: 1.5816 - mse: 5.0697 - val_loss: 8.1206 - val_mae: 2.1169 - val_mse: 8.1206\n",
      "Epoch 63/100\n",
      "\u001b[1m8/8\u001b[0m \u001b[32m━━━━━━━━━━━━━━━━━━━━\u001b[0m\u001b[37m\u001b[0m \u001b[1m0s\u001b[0m 47ms/step - loss: 4.9939 - mae: 1.5833 - mse: 4.9939 - val_loss: 7.6527 - val_mae: 1.9781 - val_mse: 7.6527\n",
      "Epoch 64/100\n",
      "\u001b[1m8/8\u001b[0m \u001b[32m━━━━━━━━━━━━━━━━━━━━\u001b[0m\u001b[37m\u001b[0m \u001b[1m0s\u001b[0m 17ms/step - loss: 5.2097 - mae: 1.6409 - mse: 5.2097 - val_loss: 7.6867 - val_mae: 2.0393 - val_mse: 7.6867\n",
      "Epoch 65/100\n",
      "\u001b[1m8/8\u001b[0m \u001b[32m━━━━━━━━━━━━━━━━━━━━\u001b[0m\u001b[37m\u001b[0m \u001b[1m0s\u001b[0m 39ms/step - loss: 5.3447 - mae: 1.6580 - mse: 5.3447 - val_loss: 7.5592 - val_mae: 2.0038 - val_mse: 7.5592\n",
      "Epoch 66/100\n",
      "\u001b[1m8/8\u001b[0m \u001b[32m━━━━━━━━━━━━━━━━━━━━\u001b[0m\u001b[37m\u001b[0m \u001b[1m1s\u001b[0m 57ms/step - loss: 4.3525 - mae: 1.4816 - mse: 4.3525 - val_loss: 7.6717 - val_mae: 2.0511 - val_mse: 7.6717\n",
      "Epoch 67/100\n",
      "\u001b[1m8/8\u001b[0m \u001b[32m━━━━━━━━━━━━━━━━━━━━\u001b[0m\u001b[37m\u001b[0m \u001b[1m0s\u001b[0m 36ms/step - loss: 5.6109 - mae: 1.6735 - mse: 5.6109 - val_loss: 7.7671 - val_mae: 2.0580 - val_mse: 7.7671\n",
      "Epoch 68/100\n",
      "\u001b[1m8/8\u001b[0m \u001b[32m━━━━━━━━━━━━━━━━━━━━\u001b[0m\u001b[37m\u001b[0m \u001b[1m0s\u001b[0m 23ms/step - loss: 4.1817 - mae: 1.4932 - mse: 4.1817 - val_loss: 7.4286 - val_mae: 1.9796 - val_mse: 7.4286\n",
      "Epoch 69/100\n",
      "\u001b[1m8/8\u001b[0m \u001b[32m━━━━━━━━━━━━━━━━━━━━\u001b[0m\u001b[37m\u001b[0m \u001b[1m0s\u001b[0m 26ms/step - loss: 4.5441 - mae: 1.4812 - mse: 4.5441 - val_loss: 7.7401 - val_mae: 2.0669 - val_mse: 7.7401\n",
      "Epoch 70/100\n",
      "\u001b[1m8/8\u001b[0m \u001b[32m━━━━━━━━━━━━━━━━━━━━\u001b[0m\u001b[37m\u001b[0m \u001b[1m1s\u001b[0m 41ms/step - loss: 5.6619 - mae: 1.6290 - mse: 5.6619 - val_loss: 7.6930 - val_mae: 2.0721 - val_mse: 7.6930\n",
      "Epoch 71/100\n",
      "\u001b[1m8/8\u001b[0m \u001b[32m━━━━━━━━━━━━━━━━━━━━\u001b[0m\u001b[37m\u001b[0m \u001b[1m0s\u001b[0m 33ms/step - loss: 4.7739 - mae: 1.5810 - mse: 4.7739 - val_loss: 7.4305 - val_mae: 1.9725 - val_mse: 7.4305\n",
      "Epoch 72/100\n",
      "\u001b[1m8/8\u001b[0m \u001b[32m━━━━━━━━━━━━━━━━━━━━\u001b[0m\u001b[37m\u001b[0m \u001b[1m1s\u001b[0m 76ms/step - loss: 5.6704 - mae: 1.6049 - mse: 5.6704 - val_loss: 7.6120 - val_mae: 2.0526 - val_mse: 7.6120\n",
      "Epoch 73/100\n",
      "\u001b[1m8/8\u001b[0m \u001b[32m━━━━━━━━━━━━━━━━━━━━\u001b[0m\u001b[37m\u001b[0m \u001b[1m0s\u001b[0m 31ms/step - loss: 4.7905 - mae: 1.5138 - mse: 4.7905 - val_loss: 7.5544 - val_mae: 2.0244 - val_mse: 7.5544\n",
      "Epoch 74/100\n",
      "\u001b[1m8/8\u001b[0m \u001b[32m━━━━━━━━━━━━━━━━━━━━\u001b[0m\u001b[37m\u001b[0m \u001b[1m0s\u001b[0m 45ms/step - loss: 4.4924 - mae: 1.4739 - mse: 4.4924 - val_loss: 7.3530 - val_mae: 1.9765 - val_mse: 7.3530\n",
      "Epoch 75/100\n",
      "\u001b[1m8/8\u001b[0m \u001b[32m━━━━━━━━━━━━━━━━━━━━\u001b[0m\u001b[37m\u001b[0m \u001b[1m0s\u001b[0m 24ms/step - loss: 4.8188 - mae: 1.5547 - mse: 4.8188 - val_loss: 7.5999 - val_mae: 2.0675 - val_mse: 7.5999\n",
      "Epoch 76/100\n",
      "\u001b[1m8/8\u001b[0m \u001b[32m━━━━━━━━━━━━━━━━━━━━\u001b[0m\u001b[37m\u001b[0m \u001b[1m0s\u001b[0m 49ms/step - loss: 5.5152 - mae: 1.6305 - mse: 5.5152 - val_loss: 7.5611 - val_mae: 2.0417 - val_mse: 7.5611\n",
      "Epoch 77/100\n",
      "\u001b[1m8/8\u001b[0m \u001b[32m━━━━━━━━━━━━━━━━━━━━\u001b[0m\u001b[37m\u001b[0m \u001b[1m0s\u001b[0m 39ms/step - loss: 4.4230 - mae: 1.4733 - mse: 4.4230 - val_loss: 7.7038 - val_mae: 2.0726 - val_mse: 7.7038\n",
      "Epoch 78/100\n",
      "\u001b[1m8/8\u001b[0m \u001b[32m━━━━━━━━━━━━━━━━━━━━\u001b[0m\u001b[37m\u001b[0m \u001b[1m0s\u001b[0m 19ms/step - loss: 4.5410 - mae: 1.5007 - mse: 4.5410 - val_loss: 7.5590 - val_mae: 2.0220 - val_mse: 7.5590\n",
      "Epoch 79/100\n",
      "\u001b[1m8/8\u001b[0m \u001b[32m━━━━━━━━━━━━━━━━━━━━\u001b[0m\u001b[37m\u001b[0m \u001b[1m0s\u001b[0m 21ms/step - loss: 5.2338 - mae: 1.5619 - mse: 5.2338 - val_loss: 7.3223 - val_mae: 1.9818 - val_mse: 7.3223\n",
      "Epoch 80/100\n",
      "\u001b[1m8/8\u001b[0m \u001b[32m━━━━━━━━━━━━━━━━━━━━\u001b[0m\u001b[37m\u001b[0m \u001b[1m0s\u001b[0m 41ms/step - loss: 5.0025 - mae: 1.5615 - mse: 5.0025 - val_loss: 7.4445 - val_mae: 2.0488 - val_mse: 7.4445\n",
      "Epoch 81/100\n",
      "\u001b[1m8/8\u001b[0m \u001b[32m━━━━━━━━━━━━━━━━━━━━\u001b[0m\u001b[37m\u001b[0m \u001b[1m0s\u001b[0m 18ms/step - loss: 5.1178 - mae: 1.5342 - mse: 5.1178 - val_loss: 7.4384 - val_mae: 2.0204 - val_mse: 7.4384\n",
      "Epoch 82/100\n",
      "\u001b[1m8/8\u001b[0m \u001b[32m━━━━━━━━━━━━━━━━━━━━\u001b[0m\u001b[37m\u001b[0m \u001b[1m0s\u001b[0m 19ms/step - loss: 5.6874 - mae: 1.6234 - mse: 5.6874 - val_loss: 7.2632 - val_mae: 1.9509 - val_mse: 7.2632\n",
      "Epoch 83/100\n",
      "\u001b[1m8/8\u001b[0m \u001b[32m━━━━━━━━━━━━━━━━━━━━\u001b[0m\u001b[37m\u001b[0m \u001b[1m0s\u001b[0m 19ms/step - loss: 4.1484 - mae: 1.4442 - mse: 4.1484 - val_loss: 7.3095 - val_mae: 2.0104 - val_mse: 7.3095\n",
      "Epoch 84/100\n",
      "\u001b[1m8/8\u001b[0m \u001b[32m━━━━━━━━━━━━━━━━━━━━\u001b[0m\u001b[37m\u001b[0m \u001b[1m0s\u001b[0m 25ms/step - loss: 4.5158 - mae: 1.4474 - mse: 4.5158 - val_loss: 7.4477 - val_mae: 2.0186 - val_mse: 7.4477\n",
      "Epoch 85/100\n",
      "\u001b[1m8/8\u001b[0m \u001b[32m━━━━━━━━━━━━━━━━━━━━\u001b[0m\u001b[37m\u001b[0m \u001b[1m0s\u001b[0m 20ms/step - loss: 4.7648 - mae: 1.4958 - mse: 4.7648 - val_loss: 7.7933 - val_mae: 2.1243 - val_mse: 7.7933\n",
      "Epoch 86/100\n",
      "\u001b[1m8/8\u001b[0m \u001b[32m━━━━━━━━━━━━━━━━━━━━\u001b[0m\u001b[37m\u001b[0m \u001b[1m0s\u001b[0m 19ms/step - loss: 4.8258 - mae: 1.5094 - mse: 4.8258 - val_loss: 7.3269 - val_mae: 1.9702 - val_mse: 7.3269\n",
      "Epoch 87/100\n",
      "\u001b[1m8/8\u001b[0m \u001b[32m━━━━━━━━━━━━━━━━━━━━\u001b[0m\u001b[37m\u001b[0m \u001b[1m0s\u001b[0m 21ms/step - loss: 4.7925 - mae: 1.5293 - mse: 4.7925 - val_loss: 7.3667 - val_mae: 2.0069 - val_mse: 7.3667\n",
      "Epoch 88/100\n",
      "\u001b[1m8/8\u001b[0m \u001b[32m━━━━━━━━━━━━━━━━━━━━\u001b[0m\u001b[37m\u001b[0m \u001b[1m0s\u001b[0m 20ms/step - loss: 4.2891 - mae: 1.4631 - mse: 4.2891 - val_loss: 7.5178 - val_mae: 2.0742 - val_mse: 7.5178\n",
      "Epoch 89/100\n",
      "\u001b[1m8/8\u001b[0m \u001b[32m━━━━━━━━━━━━━━━━━━━━\u001b[0m\u001b[37m\u001b[0m \u001b[1m0s\u001b[0m 20ms/step - loss: 4.3695 - mae: 1.5233 - mse: 4.3695 - val_loss: 7.3562 - val_mae: 2.0185 - val_mse: 7.3562\n",
      "Epoch 90/100\n",
      "\u001b[1m8/8\u001b[0m \u001b[32m━━━━━━━━━━━━━━━━━━━━\u001b[0m\u001b[37m\u001b[0m \u001b[1m0s\u001b[0m 24ms/step - loss: 4.0351 - mae: 1.4210 - mse: 4.0351 - val_loss: 7.4761 - val_mae: 2.0220 - val_mse: 7.4761\n",
      "Epoch 91/100\n",
      "\u001b[1m8/8\u001b[0m \u001b[32m━━━━━━━━━━━━━━━━━━━━\u001b[0m\u001b[37m\u001b[0m \u001b[1m0s\u001b[0m 54ms/step - loss: 4.6008 - mae: 1.5050 - mse: 4.6008 - val_loss: 7.2926 - val_mae: 2.0304 - val_mse: 7.2926\n",
      "Epoch 92/100\n",
      "\u001b[1m8/8\u001b[0m \u001b[32m━━━━━━━━━━━━━━━━━━━━\u001b[0m\u001b[37m\u001b[0m \u001b[1m0s\u001b[0m 56ms/step - loss: 3.9515 - mae: 1.3879 - mse: 3.9515 - val_loss: 7.2957 - val_mae: 2.0203 - val_mse: 7.2957\n",
      "Epoch 93/100\n",
      "\u001b[1m8/8\u001b[0m \u001b[32m━━━━━━━━━━━━━━━━━━━━\u001b[0m\u001b[37m\u001b[0m \u001b[1m0s\u001b[0m 24ms/step - loss: 4.0411 - mae: 1.4025 - mse: 4.0411 - val_loss: 7.2271 - val_mae: 2.0057 - val_mse: 7.2271\n",
      "Epoch 94/100\n",
      "\u001b[1m8/8\u001b[0m \u001b[32m━━━━━━━━━━━━━━━━━━━━\u001b[0m\u001b[37m\u001b[0m \u001b[1m1s\u001b[0m 65ms/step - loss: 4.7154 - mae: 1.5109 - mse: 4.7154 - val_loss: 7.6723 - val_mae: 2.0971 - val_mse: 7.6723\n",
      "Epoch 95/100\n",
      "\u001b[1m8/8\u001b[0m \u001b[32m━━━━━━━━━━━━━━━━━━━━\u001b[0m\u001b[37m\u001b[0m \u001b[1m1s\u001b[0m 87ms/step - loss: 4.0660 - mae: 1.3984 - mse: 4.0660 - val_loss: 7.2229 - val_mae: 2.0078 - val_mse: 7.2229\n",
      "Epoch 96/100\n",
      "\u001b[1m8/8\u001b[0m \u001b[32m━━━━━━━━━━━━━━━━━━━━\u001b[0m\u001b[37m\u001b[0m \u001b[1m0s\u001b[0m 23ms/step - loss: 3.7472 - mae: 1.3816 - mse: 3.7472 - val_loss: 7.1455 - val_mae: 1.9661 - val_mse: 7.1455\n",
      "Epoch 97/100\n",
      "\u001b[1m8/8\u001b[0m \u001b[32m━━━━━━━━━━━━━━━━━━━━\u001b[0m\u001b[37m\u001b[0m \u001b[1m0s\u001b[0m 22ms/step - loss: 5.2159 - mae: 1.5270 - mse: 5.2159 - val_loss: 7.2293 - val_mae: 2.0257 - val_mse: 7.2293\n",
      "Epoch 98/100\n",
      "\u001b[1m8/8\u001b[0m \u001b[32m━━━━━━━━━━━━━━━━━━━━\u001b[0m\u001b[37m\u001b[0m \u001b[1m0s\u001b[0m 20ms/step - loss: 4.4706 - mae: 1.4487 - mse: 4.4706 - val_loss: 7.3478 - val_mae: 2.0465 - val_mse: 7.3478\n",
      "Epoch 99/100\n",
      "\u001b[1m8/8\u001b[0m \u001b[32m━━━━━━━━━━━━━━━━━━━━\u001b[0m\u001b[37m\u001b[0m \u001b[1m0s\u001b[0m 21ms/step - loss: 3.7688 - mae: 1.3485 - mse: 3.7688 - val_loss: 7.4528 - val_mae: 2.0672 - val_mse: 7.4528\n",
      "Epoch 100/100\n",
      "\u001b[1m8/8\u001b[0m \u001b[32m━━━━━━━━━━━━━━━━━━━━\u001b[0m\u001b[37m\u001b[0m \u001b[1m0s\u001b[0m 28ms/step - loss: 4.5400 - mae: 1.4411 - mse: 4.5400 - val_loss: 7.1890 - val_mae: 1.9441 - val_mse: 7.1890\n",
      "3/3 - 0s - 123ms/step - loss: 7.7948 - mae: 1.9775 - mse: 7.7948\n",
      "\n",
      "Error absoluto medio en test:  1.98 MPG\n"
     ]
    },
    {
     "data": {
      "image/png": "[encoded data removed]",
      "text/plain": [
       "<Figure size 800x600 with 1 Axes>"
      ]
     },
     "metadata": {},
     "output_type": "display_data"
    }
   ],
   "source": [
    "\n",
    "\n",
    "# 4. Normalizar los datos\n",
    "# Calcular estadísticas del conjunto de entrenamiento\n",
    "train_stats = train_dataset.describe().transpose()\n",
    "print(\"\\nEstadísticas del conjunto de entrenamiento:\")\n",
    "print(train_stats)\n",
    "\n",
    "def norm(x):\n",
    "    # Normalizamos cada columna: (valor - media) / std\n",
    "    return (x - train_stats['mean']) / train_stats['std']\n",
    "\n",
    "normed_train_data = norm(train_dataset)\n",
    "normed_test_data = norm(test_dataset)\n",
    "\n",
    "# Opcional: Convertir a float32\n",
    "normed_train_data = normed_train_data.astype('float32')\n",
    "normed_test_data = normed_test_data.astype('float32')\n",
    "train_labels = train_labels.astype('float32')\n",
    "test_labels = test_labels.astype('float32')\n",
    "\n",
    "print(\"\\nForma de los datos normalizados:\")\n",
    "print(normed_train_data.shape, normed_test_data.shape)\n",
    "\n",
    "# 5. Construir el modelo de regresión\n",
    "def build_model():\n",
    "    model = keras.Sequential([\n",
    "        layers.Input(shape=(normed_train_data.shape[1],)),  # Número de columnas de entrada\n",
    "        layers.Dense(64, activation='relu', kernel_initializer='he_normal'),\n",
    "        layers.Dense(64, activation='relu', kernel_initializer='he_normal'),\n",
    "        layers.Dense(1)  # Salida lineal para regresión\n",
    "    ])\n",
    "    # Usamos Adam con tasa de aprendizaje moderada\n",
    "    optimizer = keras.optimizers.Adam(learning_rate=0.001, clipnorm=1.0)\n",
    "    model.compile(optimizer=optimizer, loss='mse', metrics=['mae', 'mse'])\n",
    "    return model\n",
    "\n",
    "model = build_model()\n",
    "model.summary()\n",
    "\n",
    "# 6. Entrenar el modelo\n",
    "EPOCHS = 100\n",
    "history = model.fit(\n",
    "    normed_train_data,\n",
    "    train_labels,\n",
    "    epochs=EPOCHS,\n",
    "    validation_split=0.2,\n",
    "    verbose=1\n",
    ")\n",
    "\n",
    "# 7. Evaluar el modelo en el conjunto de prueba\n",
    "loss, mae, mse = model.evaluate(normed_test_data, test_labels, verbose=2)\n",
    "print(\"\\nError absoluto medio en test: {:5.2f} MPG\".format(mae))\n",
    "\n",
    "# 8. Visualizar el historial de entrenamiento\n",
    "def plot_history(history):\n",
    "    hist = pd.DataFrame(history.history)\n",
    "    hist['epoch'] = history.epoch  # history.epoch es una lista\n",
    "    plt.figure(figsize=(8,6))\n",
    "    plt.xlabel('Época')\n",
    "    plt.ylabel('Error absoluto medio (MPG)')\n",
    "    plt.plot(hist['epoch'], hist['mae'], label='Error en entrenamiento')\n",
    "    plt.plot(hist['epoch'], hist['val_mae'], label='Error en validación')\n",
    "    plt.legend()\n",
    "    plt.show()\n",
    "\n",
    "plot_history(history)\n"
   ]
  },
  {
   "cell_type": "code",
   "execution_count": 20,
   "metadata": {},
   "outputs": [
    {
     "data": {
      "text/html": [
       "<div>\n",
       "<style scoped>\n",
       "    .dataframe tbody tr th:only-of-type {\n",
       "        vertical-align: middle;\n",
       "    }\n",
       "\n",
       "    .dataframe tbody tr th {\n",
       "        vertical-align: top;\n",
       "    }\n",
       "\n",
       "    .dataframe thead th {\n",
       "        text-align: right;\n",
       "    }\n",
       "</style>\n",
       "<table border=\"1\" class=\"dataframe\">\n",
       "  <thead>\n",
       "    <tr style=\"text-align: right;\">\n",
       "      <th></th>\n",
       "      <th>Cylinders</th>\n",
       "      <th>Displacement</th>\n",
       "      <th>Horsepower</th>\n",
       "      <th>Weight</th>\n",
       "      <th>Acceleration</th>\n",
       "      <th>Model Year</th>\n",
       "      <th>USA</th>\n",
       "      <th>Europe</th>\n",
       "      <th>Japan</th>\n",
       "    </tr>\n",
       "  </thead>\n",
       "  <tbody>\n",
       "    <tr>\n",
       "      <th>count</th>\n",
       "      <td>3.180000e+02</td>\n",
       "      <td>3.180000e+02</td>\n",
       "      <td>3.180000e+02</td>\n",
       "      <td>3.180000e+02</td>\n",
       "      <td>3.180000e+02</td>\n",
       "      <td>3.180000e+02</td>\n",
       "      <td>3.180000e+02</td>\n",
       "      <td>3.180000e+02</td>\n",
       "      <td>3.180000e+02</td>\n",
       "    </tr>\n",
       "    <tr>\n",
       "      <th>mean</th>\n",
       "      <td>-4.498464e-09</td>\n",
       "      <td>7.122567e-09</td>\n",
       "      <td>-7.497439e-10</td>\n",
       "      <td>-2.998976e-09</td>\n",
       "      <td>5.997951e-09</td>\n",
       "      <td>6.747696e-09</td>\n",
       "      <td>-8.996928e-09</td>\n",
       "      <td>8.996928e-09</td>\n",
       "      <td>-1.049642e-08</td>\n",
       "    </tr>\n",
       "    <tr>\n",
       "      <th>std</th>\n",
       "      <td>1.000000e+00</td>\n",
       "      <td>1.000000e+00</td>\n",
       "      <td>1.000000e+00</td>\n",
       "      <td>1.000000e+00</td>\n",
       "      <td>1.000000e+00</td>\n",
       "      <td>1.000000e+00</td>\n",
       "      <td>9.999999e-01</td>\n",
       "      <td>9.999999e-01</td>\n",
       "      <td>1.000000e+00</td>\n",
       "    </tr>\n",
       "    <tr>\n",
       "      <th>min</th>\n",
       "      <td>-1.437623e+00</td>\n",
       "      <td>-1.204337e+00</td>\n",
       "      <td>-1.536652e+00</td>\n",
       "      <td>-1.555077e+00</td>\n",
       "      <td>-2.830070e+00</td>\n",
       "      <td>-1.683368e+00</td>\n",
       "      <td>-1.257132e+00</td>\n",
       "      <td>-4.715670e-01</td>\n",
       "      <td>-5.060722e-01</td>\n",
       "    </tr>\n",
       "    <tr>\n",
       "      <th>25%</th>\n",
       "      <td>-8.515154e-01</td>\n",
       "      <td>-8.760149e-01</td>\n",
       "      <td>-7.622165e-01</td>\n",
       "      <td>-8.839554e-01</td>\n",
       "      <td>-6.088551e-01</td>\n",
       "      <td>-8.619188e-01</td>\n",
       "      <td>-1.257132e+00</td>\n",
       "      <td>-4.715670e-01</td>\n",
       "      <td>-5.060722e-01</td>\n",
       "    </tr>\n",
       "    <tr>\n",
       "      <th>50%</th>\n",
       "      <td>-8.515154e-01</td>\n",
       "      <td>-4.212281e-01</td>\n",
       "      <td>-2.681803e-01</td>\n",
       "      <td>-1.666926e-01</td>\n",
       "      <td>-5.355131e-02</td>\n",
       "      <td>-4.046971e-02</td>\n",
       "      <td>7.929600e-01</td>\n",
       "      <td>-4.715670e-01</td>\n",
       "      <td>-5.060722e-01</td>\n",
       "    </tr>\n",
       "    <tr>\n",
       "      <th>75%</th>\n",
       "      <td>1.492916e+00</td>\n",
       "      <td>6.829067e-01</td>\n",
       "      <td>5.730165e-01</td>\n",
       "      <td>7.073329e-01</td>\n",
       "      <td>5.572829e-01</td>\n",
       "      <td>7.809794e-01</td>\n",
       "      <td>7.929600e-01</td>\n",
       "      <td>-4.715670e-01</td>\n",
       "      <td>-5.060722e-01</td>\n",
       "    </tr>\n",
       "    <tr>\n",
       "      <th>max</th>\n",
       "      <td>1.492916e+00</td>\n",
       "      <td>2.560422e+00</td>\n",
       "      <td>3.377006e+00</td>\n",
       "      <td>2.575174e+00</td>\n",
       "      <td>3.389332e+00</td>\n",
       "      <td>1.602428e+00</td>\n",
       "      <td>7.929600e-01</td>\n",
       "      <td>2.113921e+00</td>\n",
       "      <td>1.969789e+00</td>\n",
       "    </tr>\n",
       "  </tbody>\n",
       "</table>\n",
       "</div>"
      ],
      "text/plain": [
       "          Cylinders  Displacement    Horsepower        Weight  Acceleration  \\\n",
       "count  3.180000e+02  3.180000e+02  3.180000e+02  3.180000e+02  3.180000e+02   \n",
       "mean  -4.498464e-09  7.122567e-09 -7.497439e-10 -2.998976e-09  5.997951e-09   \n",
       "std    1.000000e+00  1.000000e+00  1.000000e+00  1.000000e+00  1.000000e+00   \n",
       "min   -1.437623e+00 -1.204337e+00 -1.536652e+00 -1.555077e+00 -2.830070e+00   \n",
       "25%   -8.515154e-01 -8.760149e-01 -7.622165e-01 -8.839554e-01 -6.088551e-01   \n",
       "50%   -8.515154e-01 -4.212281e-01 -2.681803e-01 -1.666926e-01 -5.355131e-02   \n",
       "75%    1.492916e+00  6.829067e-01  5.730165e-01  7.073329e-01  5.572829e-01   \n",
       "max    1.492916e+00  2.560422e+00  3.377006e+00  2.575174e+00  3.389332e+00   \n",
       "\n",
       "         Model Year           USA        Europe         Japan  \n",
       "count  3.180000e+02  3.180000e+02  3.180000e+02  3.180000e+02  \n",
       "mean   6.747696e-09 -8.996928e-09  8.996928e-09 -1.049642e-08  \n",
       "std    1.000000e+00  9.999999e-01  9.999999e-01  1.000000e+00  \n",
       "min   -1.683368e+00 -1.257132e+00 -4.715670e-01 -5.060722e-01  \n",
       "25%   -8.619188e-01 -1.257132e+00 -4.715670e-01 -5.060722e-01  \n",
       "50%   -4.046971e-02  7.929600e-01 -4.715670e-01 -5.060722e-01  \n",
       "75%    7.809794e-01  7.929600e-01 -4.715670e-01 -5.060722e-01  \n",
       "max    1.602428e+00  7.929600e-01  2.113921e+00  1.969789e+00  "
      ]
     },
     "execution_count": 20,
     "metadata": {},
     "output_type": "execute_result"
    }
   ],
   "source": [
    "normed_train_data.describe()"
   ]
  },
  {
   "cell_type": "code",
   "execution_count": 2,
   "metadata": {},
   "outputs": [
    {
     "name": "stdout",
     "output_type": "stream",
     "text": [
      "Forma de raw_dataset: (398, 9)\n"
     ]
    }
   ],
   "source": [
    "print(\"Forma de raw_dataset:\", raw_dataset.shape)\n"
   ]
  },
  {
   "cell_type": "code",
   "execution_count": 3,
   "metadata": {},
   "outputs": [
    {
     "name": "stdout",
     "output_type": "stream",
     "text": [
      "Forma de dataset después de dropna(): (0, 9)\n"
     ]
    }
   ],
   "source": [
    "dataset = raw_dataset.dropna()\n",
    "print(\"Forma de dataset después de dropna():\", dataset.shape)\n"
   ]
  },
  {
   "cell_type": "code",
   "execution_count": 4,
   "metadata": {},
   "outputs": [
    {
     "name": "stdout",
     "output_type": "stream",
     "text": [
      "Forma de dataset después de fillna(): (398, 9)\n"
     ]
    },
    {
     "name": "stderr",
     "output_type": "stream",
     "text": [
      "/var/folders/zl/x4wcpc6n7p75fkkmssl2_0vh0000gn/T/ipykernel_25150/3836387563.py:4: FutureWarning: A value is trying to be set on a copy of a DataFrame or Series through chained assignment using an inplace method.\n",
      "The behavior will change in pandas 3.0. This inplace method will never work because the intermediate object on which we are setting values always behaves as a copy.\n",
      "\n",
      "For example, when doing 'df[col].method(value, inplace=True)', try using 'df.method({col: value}, inplace=True)' or df[col] = df[col].method(value) instead, to perform the operation inplace on the original object.\n",
      "\n",
      "\n",
      "  dataset['Horsepower'].fillna(dataset['Horsepower'].median(), inplace=True)\n"
     ]
    }
   ],
   "source": [
    "dataset = raw_dataset.copy()\n",
    "# Rellenar los valores faltantes en Horsepower con la mediana\n",
    "dataset['Horsepower'] = pd.to_numeric(dataset['Horsepower'], errors='coerce')\n",
    "dataset['Horsepower'].fillna(dataset['Horsepower'].median(), inplace=True)\n",
    "print(\"Forma de dataset después de fillna():\", dataset.shape)\n"
   ]
  },
  {
   "cell_type": "code",
   "execution_count": null,
   "metadata": {},
   "outputs": [],
   "source": []
  },
  {
   "cell_type": "code",
   "execution_count": null,
   "metadata": {},
   "outputs": [],
   "source": []
  },
  {
   "cell_type": "code",
   "execution_count": 8,
   "metadata": {},
   "outputs": [],
   "source": [
    "def plot_history(history):\n",
    "    df_hist = pd.DataFrame(history.history)\n",
    "    df_hist['epoch'] = history.epoch\n",
    "    plt.figure()\n",
    "    plt.xlabel('Epoch')\n",
    "    plt.ylabel('MAE')\n",
    "    plt.plot(df_hist['epoch'], df_hist['mae'], label=['Train Error'] )\n",
    "    plt.plot(df_hist['epoch'], df_hist['val_mae'], label=['Val Error'] )\n",
    "    plt.legend()\n",
    "    plt.figure()\n",
    "    plt.xlabel('Epoch')\n",
    "    plt.ylabel('MSE')\n",
    "    plt.plot(df_hist['epoch'], df_hist['mse'], label=['Train Error'] )\n",
    "    plt.plot(df_hist['epoch'], df_hist['val_mse'], label=['Val Error'] )\n",
    "    plt.ylim([0,20])\n",
    "    plt.legend()"
   ]
  },
  {
   "cell_type": "code",
   "execution_count": 9,
   "metadata": {},
   "outputs": [
    {
     "data": {
      "image/png": "[encoded data removed]",
      "text/plain": [
       "<Figure size 640x480 with 1 Axes>"
      ]
     },
     "metadata": {},
     "output_type": "display_data"
    },
    {
     "data": {
      "image/png": "[encoded data removed]",
      "text/plain": [
       "<Figure size 640x480 with 1 Axes>"
      ]
     },
     "metadata": {},
     "output_type": "display_data"
    }
   ],
   "source": [
    "plot_history(history)"
   ]
  },
  {
   "cell_type": "code",
   "execution_count": 10,
   "metadata": {},
   "outputs": [
    {
     "name": "stdout",
     "output_type": "stream",
     "text": [
      "\u001b[1m3/3\u001b[0m \u001b[32m━━━━━━━━━━━━━━━━━━━━\u001b[0m\u001b[37m\u001b[0m \u001b[1m0s\u001b[0m 56ms/step - loss: 7.9105 - mae: 1.9939 - mse: 7.9105\n"
     ]
    },
    {
     "data": {
      "text/plain": [
       "1.9774692058563232"
      ]
     },
     "execution_count": 10,
     "metadata": {},
     "output_type": "execute_result"
    }
   ],
   "source": [
    "loss, mae, mse = model.evaluate(normed_test_data, test_labels)\n",
    "mae"
   ]
  },
  {
   "cell_type": "code",
   "execution_count": 11,
   "metadata": {},
   "outputs": [
    {
     "name": "stderr",
     "output_type": "stream",
     "text": [
      "WARNING:absl:You are saving your model as an HDF5 file via `model.save()` or `keras.saving.save_model(model)`. This file format is considered legacy. We recommend using instead the native Keras format, e.g. `model.save('my_model.keras')` or `keras.saving.save_model(model, 'my_model.keras')`. \n"
     ]
    }
   ],
   "source": [
    "model.save(\"my_keras_model_MAE_1_96.h5\")"
   ]
  },
  {
   "cell_type": "markdown",
   "metadata": {},
   "source": [
    "Ahora prueba el modelo. Coge 10 ejemplos de train y llama a` model.predict`."
   ]
  },
  {
   "cell_type": "code",
   "execution_count": 12,
   "metadata": {},
   "outputs": [
    {
     "name": "stdout",
     "output_type": "stream",
     "text": [
      "\u001b[1m1/1\u001b[0m \u001b[32m━━━━━━━━━━━━━━━━━━━━\u001b[0m\u001b[37m\u001b[0m \u001b[1m0s\u001b[0m 189ms/step\n"
     ]
    },
    {
     "data": {
      "text/plain": [
       "array([[14.116454],\n",
       "       [27.242271],\n",
       "       [32.672634],\n",
       "       [28.18127 ],\n",
       "       [32.455704],\n",
       "       [34.60408 ],\n",
       "       [28.770952],\n",
       "       [19.408186],\n",
       "       [28.508911],\n",
       "       [35.944283]], dtype=float32)"
      ]
     },
     "execution_count": 12,
     "metadata": {},
     "output_type": "execute_result"
    }
   ],
   "source": [
    "result_10 = model.predict(normed_train_data[:10])\n",
    "result_10"
   ]
  },
  {
   "cell_type": "markdown",
   "metadata": {},
   "source": [
    "### Haz Predicciones\n",
    "\n",
    "Dibuja en un scatter plot las predicciones de test vs sus true labels."
   ]
  },
  {
   "cell_type": "code",
   "execution_count": 13,
   "metadata": {},
   "outputs": [
    {
     "name": "stdout",
     "output_type": "stream",
     "text": [
      "\u001b[1m3/3\u001b[0m \u001b[32m━━━━━━━━━━━━━━━━━━━━\u001b[0m\u001b[37m\u001b[0m \u001b[1m0s\u001b[0m 26ms/step\n"
     ]
    },
    {
     "data": {
      "text/plain": [
       "<matplotlib.collections.PathCollection at 0x165134490>"
      ]
     },
     "execution_count": 13,
     "metadata": {},
     "output_type": "execute_result"
    },
    {
     "data": {
      "image/png": "[encoded data removed]",
      "text/plain": [
       "<Figure size 640x480 with 1 Axes>"
      ]
     },
     "metadata": {},
     "output_type": "display_data"
    }
   ],
   "source": [
    "test_predictions = model.predict(normed_test_data).flatten()\n",
    "\n",
    "plt.scatter(test_labels, test_predictions)"
   ]
  },
  {
   "cell_type": "markdown",
   "metadata": {},
   "source": [
    "Parece que nuestro modelo predice razonablemente bien. Echemos un vistazo a la distribución de errores.\n",
    "\n",
    "Representa los residuos en un histograma"
   ]
  },
  {
   "cell_type": "code",
   "execution_count": 14,
   "metadata": {},
   "outputs": [
    {
     "data": {
      "text/plain": [
       "(array([ 1.,  3.,  5., 16., 29., 18.,  5.,  2.,  0.,  1.]),\n",
       " array([-9.15641022, -7.24718904, -5.33796787, -3.42874646, -1.51952517,\n",
       "         0.38969612,  2.29891729,  4.20813847,  6.11736012,  8.02658081,\n",
       "         9.93580246]),\n",
       " <BarContainer object of 10 artists>)"
      ]
     },
     "execution_count": 14,
     "metadata": {},
     "output_type": "execute_result"
    },
    {
     "data": {
      "image/png": "[encoded data removed]",
      "text/plain": [
       "<Figure size 640x480 with 1 Axes>"
      ]
     },
     "metadata": {},
     "output_type": "display_data"
    }
   ],
   "source": [
    "error = test_predictions - test_labels\n",
    "\n",
    "plt.hist(error)"
   ]
  },
  {
   "cell_type": "markdown",
   "metadata": {},
   "source": [
    "No es del todo gaussiano, pero podríamos esperar eso porque el número de muestras es muy pequeño."
   ]
  },
  {
   "cell_type": "markdown",
   "metadata": {},
   "source": [
    "## Conclusion\n",
    "\n",
    "Este cuaderno introdujo algunas técnicas para manejar un problema de regresión.\n",
    "\n",
    "* El error cuadrático medio (MSE) es una función de pérdida común utilizada para problemas de regresión (se utilizan diferentes funciones de pérdida para problemas de clasificación).\n",
    "* Del mismo modo, las métricas de evaluación utilizadas para la regresión difieren de la clasificación. Una métrica de regresión común es el error absoluto medio (MAE).\n",
    "* Cuando las características de datos de entrada numéricos tienen valores con diferentes rangos, cada característica debe escalarse independientemente al mismo rango.\n",
    "* Si no hay muchos datos de entrenamiento, una técnica es preferir una red pequeña con pocas capas ocultas para evitar el sobreajuste.\n",
    "* La detención temprana es una técnica útil para evitar el sobreajuste."
   ]
  },
  {
   "cell_type": "code",
   "execution_count": 18,
   "metadata": {},
   "outputs": [
    {
     "name": "stderr",
     "output_type": "stream",
     "text": [
      "WARNING:absl:Compiled the loaded model, but the compiled metrics have yet to be built. `model.compile_metrics` will be empty until you train or evaluate the model.\n"
     ]
    },
    {
     "name": "stdout",
     "output_type": "stream",
     "text": [
      "WARNING:tensorflow:5 out of the last 8 calls to <function TensorFlowTrainer.make_predict_function.<locals>.one_step_on_data_distributed at 0x16578d9e0> triggered tf.function retracing. Tracing is expensive and the excessive number of tracings could be due to (1) creating @tf.function repeatedly in a loop, (2) passing tensors with different shapes, (3) passing Python objects instead of tensors. For (1), please define your @tf.function outside of the loop. For (2), @tf.function has reduce_retracing=True option that can avoid unnecessary retracing. For (3), please refer to https://www.tensorflow.org/guide/function#controlling_retracing and https://www.tensorflow.org/api_docs/python/tf/function for  more details.\n"
     ]
    },
    {
     "name": "stderr",
     "output_type": "stream",
     "text": [
      "WARNING:tensorflow:5 out of the last 8 calls to <function TensorFlowTrainer.make_predict_function.<locals>.one_step_on_data_distributed at 0x16578d9e0> triggered tf.function retracing. Tracing is expensive and the excessive number of tracings could be due to (1) creating @tf.function repeatedly in a loop, (2) passing tensors with different shapes, (3) passing Python objects instead of tensors. For (1), please define your @tf.function outside of the loop. For (2), @tf.function has reduce_retracing=True option that can avoid unnecessary retracing. For (3), please refer to https://www.tensorflow.org/guide/function#controlling_retracing and https://www.tensorflow.org/api_docs/python/tf/function for  more details.\n"
     ]
    },
    {
     "name": "stdout",
     "output_type": "stream",
     "text": [
      "\u001b[1m1/3\u001b[0m \u001b[32m━━━━━━\u001b[0m\u001b[37m━━━━━━━━━━━━━━\u001b[0m \u001b[1m0s\u001b[0m 86ms/stepWARNING:tensorflow:6 out of the last 10 calls to <function TensorFlowTrainer.make_predict_function.<locals>.one_step_on_data_distributed at 0x16578d9e0> triggered tf.function retracing. Tracing is expensive and the excessive number of tracings could be due to (1) creating @tf.function repeatedly in a loop, (2) passing tensors with different shapes, (3) passing Python objects instead of tensors. For (1), please define your @tf.function outside of the loop. For (2), @tf.function has reduce_retracing=True option that can avoid unnecessary retracing. For (3), please refer to https://www.tensorflow.org/guide/function#controlling_retracing and https://www.tensorflow.org/api_docs/python/tf/function for  more details.\n"
     ]
    },
    {
     "name": "stderr",
     "output_type": "stream",
     "text": [
      "WARNING:tensorflow:6 out of the last 10 calls to <function TensorFlowTrainer.make_predict_function.<locals>.one_step_on_data_distributed at 0x16578d9e0> triggered tf.function retracing. Tracing is expensive and the excessive number of tracings could be due to (1) creating @tf.function repeatedly in a loop, (2) passing tensors with different shapes, (3) passing Python objects instead of tensors. For (1), please define your @tf.function outside of the loop. For (2), @tf.function has reduce_retracing=True option that can avoid unnecessary retracing. For (3), please refer to https://www.tensorflow.org/guide/function#controlling_retracing and https://www.tensorflow.org/api_docs/python/tf/function for  more details.\n"
     ]
    },
    {
     "name": "stdout",
     "output_type": "stream",
     "text": [
      "\u001b[1m3/3\u001b[0m \u001b[32m━━━━━━━━━━━━━━━━━━━━\u001b[0m\u001b[37m\u001b[0m \u001b[1m0s\u001b[0m 119ms/step\n"
     ]
    }
   ],
   "source": [
    "\n",
    "from keras.losses import MeanSquaredError\n",
    "model_loaded = keras.models.load_model(\n",
    "    \"my_keras_model_MAE_1_96.h5\",\n",
    "    custom_objects={'mse': MeanSquaredError, 'MeanSquaredError': MeanSquaredError}\n",
    ")\n",
    "\n",
    "\n",
    "test_predictions = model_loaded.predict(normed_test_data).flatten()"
   ]
  },
  {
   "cell_type": "code",
   "execution_count": 19,
   "metadata": {},
   "outputs": [
    {
     "data": {
      "text/plain": [
       "array([13.332514, 21.940355, 15.099745, 18.099276, 17.745966, 30.800045,\n",
       "       34.489735, 19.174797, 15.106405, 28.14183 , 35.332283, 35.05875 ,\n",
       "       18.398048, 24.714489, 16.000574, 34.08114 , 27.225315, 26.246326,\n",
       "       17.545343, 31.447447, 15.145612, 21.232979, 22.554482, 20.137117,\n",
       "       32.42594 , 25.239117, 35.36636 , 29.322037, 30.868347, 15.748024,\n",
       "       18.650898, 30.039865, 17.192913, 31.959848, 24.228231, 21.185081,\n",
       "       18.99929 , 17.17397 , 32.358154, 12.434256, 14.258338, 14.202326,\n",
       "       27.660465, 33.635803, 31.180508, 22.08342 , 19.181349, 14.646969,\n",
       "       22.2589  , 28.540512, 32.34359 , 26.171736, 17.251085, 27.103159,\n",
       "       14.734329, 12.651486, 17.470472, 25.360826, 31.781635, 17.190111,\n",
       "       17.018028, 26.156906, 19.035208, 19.904863, 12.644432, 14.691218,\n",
       "       13.751841, 17.977898, 22.124214, 14.865409, 35.98534 , 13.369588,\n",
       "       21.09282 , 18.00076 , 22.779041, 31.118088, 29.710331, 28.925148,\n",
       "       26.770264, 13.884618], dtype=float32)"
      ]
     },
     "execution_count": 19,
     "metadata": {},
     "output_type": "execute_result"
    }
   ],
   "source": [
    "test_predictions"
   ]
  }
 ],
 "metadata": {
  "kernelspec": {
   "display_name": "Python 3",
   "language": "python",
   "name": "python3"
  },
  "language_info": {
   "codemirror_mode": {
    "name": "ipython",
    "version": 3
   },
   "file_extension": ".py",
   "mimetype": "text/x-python",
   "name": "python",
   "nbconvert_exporter": "python",
   "pygments_lexer": "ipython3",
   "version": "3.11.7"
  }
 },
 "nbformat": 4,
 "nbformat_minor": 2
}
